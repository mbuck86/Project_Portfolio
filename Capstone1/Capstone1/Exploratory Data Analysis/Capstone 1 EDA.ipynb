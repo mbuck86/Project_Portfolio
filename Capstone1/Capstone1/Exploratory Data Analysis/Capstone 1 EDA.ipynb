{
 "cells": [
  {
   "cell_type": "markdown",
   "metadata": {},
   "source": [
    "# Capstone 1 Exploratory Data Analysis\n",
    "This is the Jupyter notebook for the exploratory data analysis portion of my first Springboard capstone project for their Data Science Career Track Course. The goal of this project is to write an algorithm that will classify songs by decade based purely on their lyrical content. This data being used for this project is the lyrics of songs from the yearly Billboard Top 100 between the years of 1965-2015 which were obtained from https://www.kaggle.com/rakannimer/billboard-lyrics. \n",
    "\n",
    "# The Story So Far\n",
    "Up to know I have spent my time working on this project cleaning data and turning it into more useful forms for using machin learning algorithms. The lyrics were tokenized and had stopwords removed, and some various simple EDA was done in my data story part of the project. The last thing that was done was the data was that tf-idf data was calculated for each word in the data and put into a dataframe containing exclusively that data. I also did some observations of important words from the dataset, and looked at the top ten tf-idf value means of words of each decade in the data story document.\n",
    "\n",
    "# In This Document\n",
    "In this document I will be analyzing the tf-idf data of the dataset for any interesting patterns, primarily looking for significant differences in trends of words across decades, in order to try to get a better idea of how word usage has changed over time. I'm assuming this task will be fruitful considering if it is not it may be difficult to say these tf-idf features will be useful in predicting which decade lysrics are from."
   ]
  },
  {
   "cell_type": "code",
   "execution_count": 1,
   "metadata": {},
   "outputs": [],
   "source": [
    "# Importing most of the important libraries for work in this document\n",
    "import pandas as pd\n",
    "import numpy as np\n",
    "import math\n",
    "import matplotlib.pyplot as plt\n",
    "import seaborn as sns"
   ]
  },
  {
   "cell_type": "code",
   "execution_count": 2,
   "metadata": {},
   "outputs": [],
   "source": [
    "# using default seaborn formatting for plots.\n",
    "sns.set()"
   ]
  },
  {
   "cell_type": "code",
   "execution_count": 3,
   "metadata": {},
   "outputs": [],
   "source": [
    "# Importing the datasets\n",
    "songs = pd.read_csv('basedata.csv')\n",
    "tf_data = pd.read_csv('tfdata.csv')"
   ]
  },
  {
   "cell_type": "code",
   "execution_count": 4,
   "metadata": {},
   "outputs": [],
   "source": [
    "songs = songs.drop('Unnamed: 0', axis=1)"
   ]
  },
  {
   "cell_type": "code",
   "execution_count": 5,
   "metadata": {},
   "outputs": [],
   "source": [
    "tf_data = tf_data.drop('Unnamed: 0', axis=1)"
   ]
  },
  {
   "cell_type": "markdown",
   "metadata": {},
   "source": [
    "# Presenting the Data\n",
    "The next two cells are simply going to show the head of the two data frames. The first dataframe is there primarily to provide context for the second. The first frame is the original data from the dataset(with tokens added), while the second frame is the tf-idf data generated from that data."
   ]
  },
  {
   "cell_type": "code",
   "execution_count": 6,
   "metadata": {},
   "outputs": [
    {
     "data": {
      "text/html": [
       "<div>\n",
       "<style scoped>\n",
       "    .dataframe tbody tr th:only-of-type {\n",
       "        vertical-align: middle;\n",
       "    }\n",
       "\n",
       "    .dataframe tbody tr th {\n",
       "        vertical-align: top;\n",
       "    }\n",
       "\n",
       "    .dataframe thead th {\n",
       "        text-align: right;\n",
       "    }\n",
       "</style>\n",
       "<table border=\"1\" class=\"dataframe\">\n",
       "  <thead>\n",
       "    <tr style=\"text-align: right;\">\n",
       "      <th></th>\n",
       "      <th>Rank</th>\n",
       "      <th>Song</th>\n",
       "      <th>Artist</th>\n",
       "      <th>Year</th>\n",
       "      <th>Lyrics</th>\n",
       "      <th>Decade</th>\n",
       "      <th>Tokens</th>\n",
       "    </tr>\n",
       "  </thead>\n",
       "  <tbody>\n",
       "    <tr>\n",
       "      <th>0</th>\n",
       "      <td>1</td>\n",
       "      <td>wooly bully</td>\n",
       "      <td>sam the sham and the pharaohs</td>\n",
       "      <td>1965</td>\n",
       "      <td>sam the sham miscellaneous wooly bully wooly b...</td>\n",
       "      <td>1960</td>\n",
       "      <td>['sam', 'sham', 'miscellaneous', 'wooly', 'bul...</td>\n",
       "    </tr>\n",
       "    <tr>\n",
       "      <th>1</th>\n",
       "      <td>2</td>\n",
       "      <td>i cant help myself sugar pie honey bunch</td>\n",
       "      <td>four tops</td>\n",
       "      <td>1965</td>\n",
       "      <td>sugar pie honey bunch you know that i love yo...</td>\n",
       "      <td>1960</td>\n",
       "      <td>['sugar', 'pie', 'honey', 'bunch', 'know', 'lo...</td>\n",
       "    </tr>\n",
       "    <tr>\n",
       "      <th>2</th>\n",
       "      <td>4</td>\n",
       "      <td>you were on my mind</td>\n",
       "      <td>we five</td>\n",
       "      <td>1965</td>\n",
       "      <td>when i woke up this morning you were on my mi...</td>\n",
       "      <td>1960</td>\n",
       "      <td>['woke', 'morning', 'mind', 'mind', 'got', 'tr...</td>\n",
       "    </tr>\n",
       "    <tr>\n",
       "      <th>3</th>\n",
       "      <td>5</td>\n",
       "      <td>youve lost that lovin feelin</td>\n",
       "      <td>the righteous brothers</td>\n",
       "      <td>1965</td>\n",
       "      <td>you never close your eyes anymore when i kiss...</td>\n",
       "      <td>1960</td>\n",
       "      <td>['never', 'close', 'eyes', 'anymore', 'kiss', ...</td>\n",
       "    </tr>\n",
       "    <tr>\n",
       "      <th>4</th>\n",
       "      <td>6</td>\n",
       "      <td>downtown</td>\n",
       "      <td>petula clark</td>\n",
       "      <td>1965</td>\n",
       "      <td>when youre alone and life is making you lonel...</td>\n",
       "      <td>1960</td>\n",
       "      <td>['alone', 'life', 'making', 'lonely', 'always'...</td>\n",
       "    </tr>\n",
       "  </tbody>\n",
       "</table>\n",
       "</div>"
      ],
      "text/plain": [
       "   Rank                                      Song  \\\n",
       "0     1                               wooly bully   \n",
       "1     2  i cant help myself sugar pie honey bunch   \n",
       "2     4                       you were on my mind   \n",
       "3     5              youve lost that lovin feelin   \n",
       "4     6                                  downtown   \n",
       "\n",
       "                          Artist  Year  \\\n",
       "0  sam the sham and the pharaohs  1965   \n",
       "1                      four tops  1965   \n",
       "2                        we five  1965   \n",
       "3         the righteous brothers  1965   \n",
       "4                   petula clark  1965   \n",
       "\n",
       "                                              Lyrics  Decade  \\\n",
       "0  sam the sham miscellaneous wooly bully wooly b...    1960   \n",
       "1   sugar pie honey bunch you know that i love yo...    1960   \n",
       "2   when i woke up this morning you were on my mi...    1960   \n",
       "3   you never close your eyes anymore when i kiss...    1960   \n",
       "4   when youre alone and life is making you lonel...    1960   \n",
       "\n",
       "                                              Tokens  \n",
       "0  ['sam', 'sham', 'miscellaneous', 'wooly', 'bul...  \n",
       "1  ['sugar', 'pie', 'honey', 'bunch', 'know', 'lo...  \n",
       "2  ['woke', 'morning', 'mind', 'mind', 'got', 'tr...  \n",
       "3  ['never', 'close', 'eyes', 'anymore', 'kiss', ...  \n",
       "4  ['alone', 'life', 'making', 'lonely', 'always'...  "
      ]
     },
     "execution_count": 6,
     "metadata": {},
     "output_type": "execute_result"
    }
   ],
   "source": [
    "songs.head()"
   ]
  },
  {
   "cell_type": "code",
   "execution_count": 7,
   "metadata": {},
   "outputs": [
    {
     "data": {
      "text/html": [
       "<div>\n",
       "<style scoped>\n",
       "    .dataframe tbody tr th:only-of-type {\n",
       "        vertical-align: middle;\n",
       "    }\n",
       "\n",
       "    .dataframe tbody tr th {\n",
       "        vertical-align: top;\n",
       "    }\n",
       "\n",
       "    .dataframe thead th {\n",
       "        text-align: right;\n",
       "    }\n",
       "</style>\n",
       "<table border=\"1\" class=\"dataframe\">\n",
       "  <thead>\n",
       "    <tr style=\"text-align: right;\">\n",
       "      <th></th>\n",
       "      <th>able</th>\n",
       "      <th>accept</th>\n",
       "      <th>aching</th>\n",
       "      <th>across</th>\n",
       "      <th>act</th>\n",
       "      <th>actin</th>\n",
       "      <th>acting</th>\n",
       "      <th>action</th>\n",
       "      <th>add</th>\n",
       "      <th>addicted</th>\n",
       "      <th>...</th>\n",
       "      <th>yesterday</th>\n",
       "      <th>yet</th>\n",
       "      <th>yo</th>\n",
       "      <th>york</th>\n",
       "      <th>young</th>\n",
       "      <th>younger</th>\n",
       "      <th>yup</th>\n",
       "      <th>zero</th>\n",
       "      <th>zone</th>\n",
       "      <th>Decade</th>\n",
       "    </tr>\n",
       "  </thead>\n",
       "  <tbody>\n",
       "    <tr>\n",
       "      <th>0</th>\n",
       "      <td>NaN</td>\n",
       "      <td>NaN</td>\n",
       "      <td>NaN</td>\n",
       "      <td>NaN</td>\n",
       "      <td>NaN</td>\n",
       "      <td>NaN</td>\n",
       "      <td>NaN</td>\n",
       "      <td>NaN</td>\n",
       "      <td>NaN</td>\n",
       "      <td>NaN</td>\n",
       "      <td>...</td>\n",
       "      <td>NaN</td>\n",
       "      <td>NaN</td>\n",
       "      <td>NaN</td>\n",
       "      <td>NaN</td>\n",
       "      <td>NaN</td>\n",
       "      <td>NaN</td>\n",
       "      <td>NaN</td>\n",
       "      <td>NaN</td>\n",
       "      <td>NaN</td>\n",
       "      <td>1960</td>\n",
       "    </tr>\n",
       "    <tr>\n",
       "      <th>1</th>\n",
       "      <td>NaN</td>\n",
       "      <td>NaN</td>\n",
       "      <td>NaN</td>\n",
       "      <td>NaN</td>\n",
       "      <td>NaN</td>\n",
       "      <td>NaN</td>\n",
       "      <td>NaN</td>\n",
       "      <td>NaN</td>\n",
       "      <td>NaN</td>\n",
       "      <td>NaN</td>\n",
       "      <td>...</td>\n",
       "      <td>NaN</td>\n",
       "      <td>NaN</td>\n",
       "      <td>NaN</td>\n",
       "      <td>NaN</td>\n",
       "      <td>NaN</td>\n",
       "      <td>NaN</td>\n",
       "      <td>NaN</td>\n",
       "      <td>NaN</td>\n",
       "      <td>NaN</td>\n",
       "      <td>1960</td>\n",
       "    </tr>\n",
       "    <tr>\n",
       "      <th>2</th>\n",
       "      <td>NaN</td>\n",
       "      <td>NaN</td>\n",
       "      <td>NaN</td>\n",
       "      <td>NaN</td>\n",
       "      <td>NaN</td>\n",
       "      <td>NaN</td>\n",
       "      <td>NaN</td>\n",
       "      <td>NaN</td>\n",
       "      <td>NaN</td>\n",
       "      <td>NaN</td>\n",
       "      <td>...</td>\n",
       "      <td>NaN</td>\n",
       "      <td>NaN</td>\n",
       "      <td>NaN</td>\n",
       "      <td>NaN</td>\n",
       "      <td>NaN</td>\n",
       "      <td>NaN</td>\n",
       "      <td>NaN</td>\n",
       "      <td>NaN</td>\n",
       "      <td>NaN</td>\n",
       "      <td>1960</td>\n",
       "    </tr>\n",
       "    <tr>\n",
       "      <th>3</th>\n",
       "      <td>NaN</td>\n",
       "      <td>NaN</td>\n",
       "      <td>NaN</td>\n",
       "      <td>NaN</td>\n",
       "      <td>NaN</td>\n",
       "      <td>NaN</td>\n",
       "      <td>NaN</td>\n",
       "      <td>NaN</td>\n",
       "      <td>NaN</td>\n",
       "      <td>NaN</td>\n",
       "      <td>...</td>\n",
       "      <td>NaN</td>\n",
       "      <td>NaN</td>\n",
       "      <td>NaN</td>\n",
       "      <td>NaN</td>\n",
       "      <td>NaN</td>\n",
       "      <td>NaN</td>\n",
       "      <td>NaN</td>\n",
       "      <td>NaN</td>\n",
       "      <td>NaN</td>\n",
       "      <td>1960</td>\n",
       "    </tr>\n",
       "    <tr>\n",
       "      <th>4</th>\n",
       "      <td>NaN</td>\n",
       "      <td>NaN</td>\n",
       "      <td>NaN</td>\n",
       "      <td>NaN</td>\n",
       "      <td>NaN</td>\n",
       "      <td>NaN</td>\n",
       "      <td>NaN</td>\n",
       "      <td>NaN</td>\n",
       "      <td>NaN</td>\n",
       "      <td>NaN</td>\n",
       "      <td>...</td>\n",
       "      <td>NaN</td>\n",
       "      <td>NaN</td>\n",
       "      <td>NaN</td>\n",
       "      <td>NaN</td>\n",
       "      <td>NaN</td>\n",
       "      <td>NaN</td>\n",
       "      <td>NaN</td>\n",
       "      <td>NaN</td>\n",
       "      <td>NaN</td>\n",
       "      <td>1960</td>\n",
       "    </tr>\n",
       "  </tbody>\n",
       "</table>\n",
       "<p>5 rows × 3200 columns</p>\n",
       "</div>"
      ],
      "text/plain": [
       "   able  accept  aching  across  act  actin  acting  action  add  addicted  \\\n",
       "0   NaN     NaN     NaN     NaN  NaN    NaN     NaN     NaN  NaN       NaN   \n",
       "1   NaN     NaN     NaN     NaN  NaN    NaN     NaN     NaN  NaN       NaN   \n",
       "2   NaN     NaN     NaN     NaN  NaN    NaN     NaN     NaN  NaN       NaN   \n",
       "3   NaN     NaN     NaN     NaN  NaN    NaN     NaN     NaN  NaN       NaN   \n",
       "4   NaN     NaN     NaN     NaN  NaN    NaN     NaN     NaN  NaN       NaN   \n",
       "\n",
       "   ...  yesterday  yet  yo  york  young  younger  yup  zero  zone  Decade  \n",
       "0  ...        NaN  NaN NaN   NaN    NaN      NaN  NaN   NaN   NaN    1960  \n",
       "1  ...        NaN  NaN NaN   NaN    NaN      NaN  NaN   NaN   NaN    1960  \n",
       "2  ...        NaN  NaN NaN   NaN    NaN      NaN  NaN   NaN   NaN    1960  \n",
       "3  ...        NaN  NaN NaN   NaN    NaN      NaN  NaN   NaN   NaN    1960  \n",
       "4  ...        NaN  NaN NaN   NaN    NaN      NaN  NaN   NaN   NaN    1960  \n",
       "\n",
       "[5 rows x 3200 columns]"
      ]
     },
     "execution_count": 7,
     "metadata": {},
     "output_type": "execute_result"
    }
   ],
   "source": [
    "tf_data.head()"
   ]
  },
  {
   "cell_type": "markdown",
   "metadata": {},
   "source": [
    "As we can see, the tf-idf data is full of NaN values, mainly due to the fact that that is the nature of the sparse data frame, considering if the word does not occur in the song, its value is NaN. Moeving forward, let us look at some aggregate statistics to start out with across decades.\n",
    "\n",
    "# Observing 'love'\n",
    "Previous analysis of this dataset has shown that 'love' is easily the most common word in the dataset. We also observed that love has seemingly decreased in popularity across decades over time. It may be useful to gain insight into this idea, as if the importance of love has changed over time significantly, it may mean that other words could follow similar patterns. "
   ]
  },
  {
   "cell_type": "code",
   "execution_count": 8,
   "metadata": {},
   "outputs": [
    {
     "data": {
      "text/plain": [
       "Text(0, 0.5, 'tf-idf Mean')"
      ]
     },
     "execution_count": 8,
     "metadata": {},
     "output_type": "execute_result"
    },
    {
     "data": {
      "image/png": "[encoded data removed]",
      "text/plain": [
       "<Figure size 360x360 with 1 Axes>"
      ]
     },
     "metadata": {},
     "output_type": "display_data"
    }
   ],
   "source": [
    "plt.rcParams[\"figure.figsize\"] = (5,5)\n",
    "love_means = tf_data['love'].groupby(tf_data.Decade).mean().plot(kind='bar')\n",
    "plt.title(\"tf-idf Means of 'love' by Decade\")\n",
    "plt.ylabel('tf-idf Mean')"
   ]
  },
  {
   "cell_type": "markdown",
   "metadata": {},
   "source": [
    "Observing this graph we see the drop in importance of the word 'love' in songs across decades, which seems gradual until the harsh drop in 2000's music, along with a slight increase from the 2000's to the 2010's. Lest us observe if there is a statistically significant difference in the usage of 'love' in songs by comparing our time period ends to each other, the 1960's and the 2010's.\n",
    "\n",
    "# An Experiment\n",
    "I would like to perform a hypothesis test to determine if the tf-idf mean of 'love' in the 1960's is significantly different from the mean of 'love' in 2010. \n",
    "\n",
    "Null hypothesis - The tf-idf mean of 'love' in 1960 is a the same as the tf-idf mean of love in 2010 form our data.\n",
    "\n",
    "Alternative hypothesis - The tf-idf mean of love between the two decades is different.\n",
    "\n",
    "I woult like to use a T-test for this, with alpha set at 0.05."
   ]
  },
  {
   "cell_type": "code",
   "execution_count": 9,
   "metadata": {},
   "outputs": [],
   "source": [
    "# pulling values for 'love' out of the data\n",
    "l60 = tf_data.loc[tf_data.Decade == 1960]['love']\n",
    "l10 = tf_data.loc[tf_data.Decade == 2010]['love']"
   ]
  },
  {
   "cell_type": "code",
   "execution_count": 10,
   "metadata": {},
   "outputs": [
    {
     "data": {
      "text/plain": [
       "0.10559706413408651"
      ]
     },
     "execution_count": 10,
     "metadata": {},
     "output_type": "execute_result"
    }
   ],
   "source": [
    "l60.mean()"
   ]
  },
  {
   "cell_type": "code",
   "execution_count": 11,
   "metadata": {},
   "outputs": [
    {
     "data": {
      "text/plain": [
       "0.06664603699669688"
      ]
     },
     "execution_count": 11,
     "metadata": {},
     "output_type": "execute_result"
    }
   ],
   "source": [
    "l10.mean()"
   ]
  },
  {
   "cell_type": "code",
   "execution_count": 27,
   "metadata": {},
   "outputs": [
    {
     "data": {
      "image/png": "[encoded data removed]",
      "text/plain": [
       "<Figure size 360x360 with 1 Axes>"
      ]
     },
     "metadata": {},
     "output_type": "display_data"
    }
   ],
   "source": [
    "# create histograms of 'love' tf-idf data for both decades\n",
    "l60_hist = l60.plot(kind='hist', bins=20, title = \"1960's tf-idf values for 'love'\")\n"
   ]
  },
  {
   "cell_type": "code",
   "execution_count": 28,
   "metadata": {
    "scrolled": true
   },
   "outputs": [
    {
     "data": {
      "image/png": "[encoded data removed]",
      "text/plain": [
       "<Figure size 360x360 with 1 Axes>"
      ]
     },
     "metadata": {},
     "output_type": "display_data"
    }
   ],
   "source": [
    "l10_hist = l10.plot(kind='hist', bins=20, title = \"2010's tf-idf values for 'love'\")"
   ]
  },
  {
   "cell_type": "markdown",
   "metadata": {},
   "source": [
    "The histograms show us that our data is exponentially distributed. I would like to perform a T-test for the difference of means, which means I need data that is normall distributed. To accomplish this I am going to take the log of the data and observe how it is distributed."
   ]
  },
  {
   "cell_type": "code",
   "execution_count": 14,
   "metadata": {},
   "outputs": [],
   "source": [
    "# setting up data and taking the log\n",
    "l60l = l60[~np.isnan(l60)]\n",
    "l60l = np.log(l60l)\n",
    "l10l = l10[~np.isnan(l10)]\n",
    "l10l = np.log(l10l)"
   ]
  },
  {
   "cell_type": "code",
   "execution_count": 30,
   "metadata": {},
   "outputs": [
    {
     "data": {
      "text/plain": [
       "<matplotlib.axes._subplots.AxesSubplot at 0x1eb4a558d30>"
      ]
     },
     "execution_count": 30,
     "metadata": {},
     "output_type": "execute_result"
    },
    {
     "data": {
      "image/png": "[encoded data removed]",
      "text/plain": [
       "<Figure size 360x360 with 1 Axes>"
      ]
     },
     "metadata": {},
     "output_type": "display_data"
    }
   ],
   "source": [
    "l60l.plot(kind='hist', title = \"1960's log tf-idf values for 'love'\")"
   ]
  },
  {
   "cell_type": "code",
   "execution_count": 29,
   "metadata": {},
   "outputs": [
    {
     "data": {
      "text/plain": [
       "<matplotlib.axes._subplots.AxesSubplot at 0x1eb4a50d278>"
      ]
     },
     "execution_count": 29,
     "metadata": {},
     "output_type": "execute_result"
    },
    {
     "data": {
      "image/png": "[encoded data removed]",
      "text/plain": [
       "<Figure size 360x360 with 1 Axes>"
      ]
     },
     "metadata": {},
     "output_type": "display_data"
    }
   ],
   "source": [
    "l10l.plot(kind='hist', title = \"2010's log tf-idf values for 'love'\")"
   ]
  },
  {
   "cell_type": "markdown",
   "metadata": {},
   "source": [
    "Observing these new histograms of the log data, both of these sets of data seems normally distibuted, which means we can perform a T-test with this data to test our hypothesis. "
   ]
  },
  {
   "cell_type": "code",
   "execution_count": 17,
   "metadata": {},
   "outputs": [
    {
     "name": "stdout",
     "output_type": "stream",
     "text": [
      "Degrees of freedom = 552\n"
     ]
    }
   ],
   "source": [
    "deg_free = len(l60l) + len(l10l) -2\n",
    "print(\"Degrees of freedom = \" + str(deg_free))"
   ]
  },
  {
   "cell_type": "code",
   "execution_count": 18,
   "metadata": {},
   "outputs": [],
   "source": [
    "#importing the T-test function from scipy\n",
    "from scipy.stats import ttest_ind"
   ]
  },
  {
   "cell_type": "code",
   "execution_count": 19,
   "metadata": {},
   "outputs": [
    {
     "name": "stdout",
     "output_type": "stream",
     "text": [
      "t = 6.572452543042203\n",
      "p = 1.1472938647980982e-10\n"
     ]
    }
   ],
   "source": [
    "#calculating the t statistic\n",
    "t_stat, p_val = ttest_ind(l60l, l10l)\n",
    "print('t = ' + str(t_stat))\n",
    "print('p = ' + str(p_val))"
   ]
  },
  {
   "cell_type": "markdown",
   "metadata": {},
   "source": [
    "Obseving our results, we see we do have a statistically significant difference of means, so it should be reasonable to reject our null hypothesis that the tf-idf means of love between these two decades is the same.\n",
    "\n",
    "# Another Observation\n",
    "After working with love, the most popular word in the data set, I'm interested if there are patterns in another word: 'naturally'. 'Naturally' had the highest tf-idf mean for the 2010's, and I'd like to see its popularity in decades before. "
   ]
  },
  {
   "cell_type": "code",
   "execution_count": 20,
   "metadata": {},
   "outputs": [
    {
     "data": {
      "text/plain": [
       "Text(0, 0.5, 'tf-idf Mean')"
      ]
     },
     "execution_count": 20,
     "metadata": {},
     "output_type": "execute_result"
    },
    {
     "data": {
      "image/png": "[encoded data removed]",
      "text/plain": [
       "<Figure size 360x360 with 1 Axes>"
      ]
     },
     "metadata": {},
     "output_type": "display_data"
    }
   ],
   "source": [
    "naturally_means = tf_data['naturally'].groupby(tf_data.Decade).mean().plot(kind='bar')\n",
    "plt.title(\"tf-idf Means of 'naturally' by Decade\")\n",
    "plt.ylabel('tf-idf Mean')"
   ]
  },
  {
   "cell_type": "markdown",
   "metadata": {},
   "source": [
    "This is incredibly surprising to me, and without having done any other looking, seems quite suspicious as some outlier, so let us look into that. "
   ]
  },
  {
   "cell_type": "code",
   "execution_count": 21,
   "metadata": {},
   "outputs": [
    {
     "data": {
      "text/plain": [
       "4334    0.900317\n",
       "Name: naturally, dtype: float64"
      ]
     },
     "execution_count": 21,
     "metadata": {},
     "output_type": "execute_result"
    }
   ],
   "source": [
    "#pulling out the naturally data for 2010's\n",
    "nat10 = tf_data.loc[tf_data.Decade==2010]['naturally']\n",
    "nat10 = nat10[~np.isnan(nat10)]\n",
    "nat10"
   ]
  },
  {
   "cell_type": "code",
   "execution_count": 22,
   "metadata": {},
   "outputs": [
    {
     "data": {
      "text/plain": [
       "3321    0.061424\n",
       "3368    0.048385\n",
       "3727    0.129562\n",
       "3846    0.074115\n",
       "Name: naturally, dtype: float64"
      ]
     },
     "execution_count": 22,
     "metadata": {},
     "output_type": "execute_result"
    }
   ],
   "source": [
    "# pulling outsame values from the 2000's for comparison\n",
    "nat20 = tf_data.loc[tf_data.Decade==2000]['naturally']\n",
    "nat20 = nat20[~np.isnan(nat20)]\n",
    "nat20"
   ]
  },
  {
   "cell_type": "code",
   "execution_count": 23,
   "metadata": {},
   "outputs": [
    {
     "data": {
      "text/plain": [
       "Rank                                                     77\n",
       "Song                                              naturally\n",
       "Artist                              selena gomez  the scene\n",
       "Year                                                   2010\n",
       "Lyrics    how you choose to express yourself its all you...\n",
       "Decade                                                 2010\n",
       "Tokens    ['choose', 'express', 'tell', 'comes', 'natura...\n",
       "Name: 4334, dtype: object"
      ]
     },
     "execution_count": 23,
     "metadata": {},
     "output_type": "execute_result"
    }
   ],
   "source": [
    "songs.iloc[4334]"
   ]
  },
  {
   "cell_type": "markdown",
   "metadata": {},
   "source": [
    "Although I tend to overuse the word 'interesting', I do find this to be incredibly interesting, and a good anecdote for how mean values can be misleading in analysis. I did not expect the song that caused this to literally be called 'Naturally'. I'm curious as to whether or not all of the visualizations I made when looking at the tf-idf means of the decades were tainted with situations like this, but I think that would require a bit more effort than it was worth for not enough gain in terms of anaytical information. This was enlightening though, as having knowledge of these types of outliers can assist with creating models, and unserstanding why errors may be made by models"
   ]
  },
  {
   "cell_type": "markdown",
   "metadata": {},
   "source": [
    "# Moving Forward\n",
    "With these new insights, I will be moving forward to model construction in my project. The first thing that I do in my model construction will most likely be principal component analysis, as that may help to minimize the noise generated by the types of outliers we just observed, as well as absorbing the information from words that follow trends like we observed from 'love'. It will be interesting to observe how the model may deal with the noise, if more words end up like 'naturally' as opposed to 'love'."
   ]
  }
 ],
 "metadata": {
  "kernelspec": {
   "display_name": "Python 3",
   "language": "python",
   "name": "python3"
  },
  "language_info": {
   "codemirror_mode": {
    "name": "ipython",
    "version": 3
   },
   "file_extension": ".py",
   "mimetype": "text/x-python",
   "name": "python",
   "nbconvert_exporter": "python",
   "pygments_lexer": "ipython3",
   "version": "3.6.8"
  }
 },
 "nbformat": 4,
 "nbformat_minor": 2
}
