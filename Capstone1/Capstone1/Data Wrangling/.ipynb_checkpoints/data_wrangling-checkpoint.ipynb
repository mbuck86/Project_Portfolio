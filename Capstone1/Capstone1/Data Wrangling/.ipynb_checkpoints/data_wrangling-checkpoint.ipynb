{
 "cells": [
  {
   "cell_type": "markdown",
   "metadata": {},
   "source": [
    "# Capstone Project 1 Data Wrangling Notebook\n",
    "Beginning to import and inspect raw datata for the capstone. The data is the artist and lyric information for the Billboard top 100 songs of the year from 1965-2015"
   ]
  },
  {
   "cell_type": "code",
   "execution_count": 68,
   "metadata": {},
   "outputs": [],
   "source": [
    "# Imporing packages\n",
    "import pandas as pd\n",
    "import numpy as np\n",
    "import os"
   ]
  },
  {
   "cell_type": "code",
   "execution_count": 69,
   "metadata": {},
   "outputs": [
    {
     "data": {
      "text/html": [
       "<div>\n",
       "<style scoped>\n",
       "    .dataframe tbody tr th:only-of-type {\n",
       "        vertical-align: middle;\n",
       "    }\n",
       "\n",
       "    .dataframe tbody tr th {\n",
       "        vertical-align: top;\n",
       "    }\n",
       "\n",
       "    .dataframe thead th {\n",
       "        text-align: right;\n",
       "    }\n",
       "</style>\n",
       "<table border=\"1\" class=\"dataframe\">\n",
       "  <thead>\n",
       "    <tr style=\"text-align: right;\">\n",
       "      <th></th>\n",
       "      <th>Rank</th>\n",
       "      <th>Song</th>\n",
       "      <th>Artist</th>\n",
       "      <th>Year</th>\n",
       "      <th>Lyrics</th>\n",
       "      <th>Source</th>\n",
       "    </tr>\n",
       "  </thead>\n",
       "  <tbody>\n",
       "    <tr>\n",
       "      <th>0</th>\n",
       "      <td>1</td>\n",
       "      <td>wooly bully</td>\n",
       "      <td>sam the sham and the pharaohs</td>\n",
       "      <td>1965</td>\n",
       "      <td>sam the sham miscellaneous wooly bully wooly b...</td>\n",
       "      <td>3.0</td>\n",
       "    </tr>\n",
       "    <tr>\n",
       "      <th>1</th>\n",
       "      <td>2</td>\n",
       "      <td>i cant help myself sugar pie honey bunch</td>\n",
       "      <td>four tops</td>\n",
       "      <td>1965</td>\n",
       "      <td>sugar pie honey bunch you know that i love yo...</td>\n",
       "      <td>1.0</td>\n",
       "    </tr>\n",
       "    <tr>\n",
       "      <th>2</th>\n",
       "      <td>3</td>\n",
       "      <td>i cant get no satisfaction</td>\n",
       "      <td>the rolling stones</td>\n",
       "      <td>1965</td>\n",
       "      <td></td>\n",
       "      <td>1.0</td>\n",
       "    </tr>\n",
       "    <tr>\n",
       "      <th>3</th>\n",
       "      <td>4</td>\n",
       "      <td>you were on my mind</td>\n",
       "      <td>we five</td>\n",
       "      <td>1965</td>\n",
       "      <td>when i woke up this morning you were on my mi...</td>\n",
       "      <td>1.0</td>\n",
       "    </tr>\n",
       "    <tr>\n",
       "      <th>4</th>\n",
       "      <td>5</td>\n",
       "      <td>youve lost that lovin feelin</td>\n",
       "      <td>the righteous brothers</td>\n",
       "      <td>1965</td>\n",
       "      <td>you never close your eyes anymore when i kiss...</td>\n",
       "      <td>1.0</td>\n",
       "    </tr>\n",
       "  </tbody>\n",
       "</table>\n",
       "</div>"
      ],
      "text/plain": [
       "   Rank                                      Song  \\\n",
       "0     1                               wooly bully   \n",
       "1     2  i cant help myself sugar pie honey bunch   \n",
       "2     3                i cant get no satisfaction   \n",
       "3     4                       you were on my mind   \n",
       "4     5              youve lost that lovin feelin   \n",
       "\n",
       "                          Artist  Year  \\\n",
       "0  sam the sham and the pharaohs  1965   \n",
       "1                      four tops  1965   \n",
       "2             the rolling stones  1965   \n",
       "3                        we five  1965   \n",
       "4         the righteous brothers  1965   \n",
       "\n",
       "                                              Lyrics  Source  \n",
       "0  sam the sham miscellaneous wooly bully wooly b...     3.0  \n",
       "1   sugar pie honey bunch you know that i love yo...     1.0  \n",
       "2                                                        1.0  \n",
       "3   when i woke up this morning you were on my mi...     1.0  \n",
       "4   you never close your eyes anymore when i kiss...     1.0  "
      ]
     },
     "execution_count": 69,
     "metadata": {},
     "output_type": "execute_result"
    }
   ],
   "source": [
    "# Importing and inspecting data, the encoding parameter was included because data could not be imported without it\n",
    "bb = pd.read_csv('bb.csv', encoding='iso-8859-1')\n",
    "bb.head()"
   ]
  },
  {
   "cell_type": "markdown",
   "metadata": {},
   "source": [
    "Checking to see if the data has all 100 songs per year shows that we have all 100 songs for each year. However this only shows that we have the songs and nothing about the lyrics."
   ]
  },
  {
   "cell_type": "code",
   "execution_count": 70,
   "metadata": {},
   "outputs": [],
   "source": [
    "#checking some basic aspects of the data, first, how many songs for each year?\n",
    "year_count = bb.groupby('Year').size() # tells us 100 songs per year, as advertised."
   ]
  },
  {
   "cell_type": "markdown",
   "metadata": {},
   "source": [
    "Checking out the artist formatting, shows that it may be difficult to see all of the artists, because there are many titles in the later years that show many songs featuring other artists for example, Michael Jackson and Janet Jackson have many songs apart, but also have one song they performed together."
   ]
  },
  {
   "cell_type": "code",
   "execution_count": 71,
   "metadata": {},
   "outputs": [
    {
     "data": {
      "text/plain": [
       "Artist\n",
       "madonna            35\n",
       "elton john         26\n",
       "mariah carey       25\n",
       "michael jackson    22\n",
       "janet jackson      22\n",
       "dtype: int64"
      ]
     },
     "execution_count": 71,
     "metadata": {},
     "output_type": "execute_result"
    }
   ],
   "source": [
    "#Is there anything noticeably strange about artist formating?\n",
    "artists = bb.groupby('Artist').size().sort_values(ascending=False)\n",
    "artists.head()"
   ]
  },
  {
   "cell_type": "markdown",
   "metadata": {},
   "source": [
    "Identifying missing values in this data took a little bit of work because the missing values were not easy to identify. Nothing was labelled as NA or missing. After some prodding around with the data, I discovered that the empty lyrics fields were filled with either one space or two spaces. "
   ]
  },
  {
   "cell_type": "code",
   "execution_count": 72,
   "metadata": {
    "scrolled": true
   },
   "outputs": [
    {
     "data": {
      "text/plain": [
       "Year\n",
       "1971    13\n",
       "1972    12\n",
       "1969    10\n",
       "1996     9\n",
       "1977     9\n",
       "dtype: int64"
      ]
     },
     "execution_count": 72,
     "metadata": {},
     "output_type": "execute_result"
    }
   ],
   "source": [
    "# Figuring out how many/what values are missing from the data\n",
    "# Looking at values that had missing lyrics, the actual most common missing lyrics were filled with '  '(two spaces)\n",
    "blanks = [' ', '  ']\n",
    "\n",
    "# Replacing blank values with NaN\n",
    "nas = bb.replace(' ', np.nan)\n",
    "nas = nas.replace('  ', np.nan)\n",
    "\n",
    "nas_nums = nas[nas.Lyrics.isnull()].groupby('Year').size().sort_values(ascending=False)\n",
    "nas_nums.head()"
   ]
  },
  {
   "cell_type": "markdown",
   "metadata": {},
   "source": [
    "After discussing with my mentor, we have decided to simply drop the songs with missing lyrics, as re-scraping for missing songs would take a significant amount of time. The next code will drop the NAN values from the dataset."
   ]
  },
  {
   "cell_type": "code",
   "execution_count": 73,
   "metadata": {},
   "outputs": [],
   "source": [
    "# Removing the NaN values\n",
    "new_dat = nas[pd.notnull(nas.Lyrics)]\n",
    "\n",
    "# Recalculating how many songs are left\n",
    "songs = new_dat.groupby('Year').size().sort_values()"
   ]
  },
  {
   "cell_type": "markdown",
   "metadata": {},
   "source": [
    "After removing the songs with missing lyrics, there are only two years with less than ninety songs. There is now an average of around 95 songs per year. Next, I am going to check for instrumental songs, because since this project is going to focus on using lyrics to predict what decade a song is from, instrumental songs will not be useful in contributing to the model."
   ]
  },
  {
   "cell_type": "code",
   "execution_count": 74,
   "metadata": {},
   "outputs": [],
   "source": [
    "# Checking for songs labelled as instrumental\n",
    "instrum = new_dat[new_dat.Lyrics == 'instrumental']\n",
    "# This seems to be all of the instrumental songs.\n",
    "\n",
    "# Removing the instrumental songs and recalculating what the new numbers of songs are for each year.\n",
    "new_dat = new_dat[new_dat.Lyrics != 'instrumental']\n",
    "songs1 = new_dat.groupby('Year').size().sort_values()"
   ]
  },
  {
   "cell_type": "markdown",
   "metadata": {},
   "source": [
    "After removing the instrumental songs from the data, three years now have less than ninety songs, however the average number os songs per year was not changed too significantly, it is still slightly higher than 95. The next task I am going to try to approach is looking for songs that have artist names and song structure words randomly in the lyrics."
   ]
  },
  {
   "cell_type": "code",
   "execution_count": 75,
   "metadata": {},
   "outputs": [],
   "source": [
    "# checking out lyrical errors. some songs have obvious errors from scraping and need to be looked at a bit further. Since I\n",
    "# believe this to be a result of the scraping process, I think the errors will come from specific sources.\n",
    "\n",
    "#looking at sources\n",
    "source = new_dat.groupby('Source').size()\n",
    "\n",
    "# most lyrics came from source 1 in the data set(currently 37974 entries), and none of these have easily percieveable errors.\n",
    "l1 = new_dat[new_dat.Source == 1]\n",
    "\n",
    "# the lyrics from source 3 seem to have some of the artist names and genres randomly in lyrics.\n",
    "l3 = new_dat[new_dat.Source == 3]\n",
    "\n",
    "# the lyrics from source five also don't seem to have these errors as obivously as source 3, besides there being one entry \n",
    "# with verse in it observed by lyrics\n",
    "l5 = new_dat[new_dat.Source == 5]"
   ]
  },
  {
   "cell_type": "markdown",
   "metadata": {},
   "source": [
    "After looking at the hypothesis that lyrics were messed up based on source, I'm not particularly sure if one source is much more erroneous than another. Since that is the case, I will be looking at all of the data in order to try to find where some of these errors are happening. The following code taskes care of cleaning the songs addressing the problems described, fixinf the most easily identifiable error patterns. This mostly involved songs that had strange patterns like starting with artist name or other problems described in the code comments."
   ]
  },
  {
   "cell_type": "code",
   "execution_count": 76,
   "metadata": {},
   "outputs": [],
   "source": [
    "def clean_text(row):\n",
    "    # This function is going to clean the text in the dataframe\n",
    "    # setting up variables\n",
    "    song = row[1]\n",
    "    art = row[2]\n",
    "    lyr = row[4]\n",
    "    \n",
    "    # replacing lyrics based off what was observed in data cleaning steps\n",
    "    if lyr.startswith(art):\n",
    "       lyr = lyr.replace(row['Artist'], \"\", 1)\n",
    "    \n",
    "    if lyr.startswith(' miscellaneous'):\n",
    "       lyr = lyr.replace(' miscellaneous', \"\", 1)\n",
    "    \n",
    "    if lyr.startswith(' artist'):\n",
    "        tes.at[index, 'Lyrics'] = lyr.replace(' artist', \"\", 1)\n",
    "    if lyr.startswith(' '+art):\n",
    "       tes.at[index, 'Lyrics'] = lyr.replace(' ' + art, \"\", 1)\n",
    "    \n",
    "    if 'chorus' in lyr:\n",
    "        lyr = lyr.replace('chorus', '')\n",
    "    if 'verse' in lyr:\n",
    "        lyr = lyr.replace('verse', '')\n",
    "        \n",
    "    row[4] = lyr\n",
    "    return row\n",
    "\n",
    "    \n",
    "# Finally I'm going to store the tes data frame back into new_dat\n",
    "new_dat = new_dat.apply(clean_text, axis=1)"
   ]
  },
  {
   "cell_type": "markdown",
   "metadata": {},
   "source": [
    "Next I am going to set up the data to be indexed by decades, by performing a quick calculation on year in order to calculate the ecade of the song, and then set the index to the decades, since that is what I will be using in my model."
   ]
  },
  {
   "cell_type": "code",
   "execution_count": 77,
   "metadata": {},
   "outputs": [
    {
     "data": {
      "text/plain": [
       "Decade\n",
       "1960    459\n",
       "1970    914\n",
       "1980    960\n",
       "1990    952\n",
       "2000    974\n",
       "2010    592\n",
       "dtype: int64"
      ]
     },
     "execution_count": 77,
     "metadata": {},
     "output_type": "execute_result"
    }
   ],
   "source": [
    "# Creating the decades column to be used as the index\n",
    "new_dat['Decade'] = new_dat['Year'] // 10 * 10\n",
    "new_dat.groupby('Decade').size()"
   ]
  },
  {
   "cell_type": "markdown",
   "metadata": {},
   "source": [
    "Observing the new decade data, we can see overall what data remain from the cleaning steps that have been taken. the 1960's have the least amount of data, with the 80's, 90's, and 00's each having relatively the same amount. The 2010's are also missing quite a bit relative to the other decades considering they are missing several years as well. The last things to do to the data are drop the source column since it is irrelevant and export the data to a new csv file."
   ]
  },
  {
   "cell_type": "code",
   "execution_count": 78,
   "metadata": {},
   "outputs": [
    {
     "data": {
      "text/html": [
       "<div>\n",
       "<style scoped>\n",
       "    .dataframe tbody tr th:only-of-type {\n",
       "        vertical-align: middle;\n",
       "    }\n",
       "\n",
       "    .dataframe tbody tr th {\n",
       "        vertical-align: top;\n",
       "    }\n",
       "\n",
       "    .dataframe thead th {\n",
       "        text-align: right;\n",
       "    }\n",
       "</style>\n",
       "<table border=\"1\" class=\"dataframe\">\n",
       "  <thead>\n",
       "    <tr style=\"text-align: right;\">\n",
       "      <th></th>\n",
       "      <th>Rank</th>\n",
       "      <th>Song</th>\n",
       "      <th>Artist</th>\n",
       "      <th>Year</th>\n",
       "      <th>Lyrics</th>\n",
       "      <th>Decade</th>\n",
       "    </tr>\n",
       "  </thead>\n",
       "  <tbody>\n",
       "    <tr>\n",
       "      <th>0</th>\n",
       "      <td>1</td>\n",
       "      <td>wooly bully</td>\n",
       "      <td>sam the sham and the pharaohs</td>\n",
       "      <td>1965</td>\n",
       "      <td>sam the sham miscellaneous wooly bully wooly b...</td>\n",
       "      <td>1960</td>\n",
       "    </tr>\n",
       "    <tr>\n",
       "      <th>1</th>\n",
       "      <td>2</td>\n",
       "      <td>i cant help myself sugar pie honey bunch</td>\n",
       "      <td>four tops</td>\n",
       "      <td>1965</td>\n",
       "      <td>sugar pie honey bunch you know that i love yo...</td>\n",
       "      <td>1960</td>\n",
       "    </tr>\n",
       "    <tr>\n",
       "      <th>3</th>\n",
       "      <td>4</td>\n",
       "      <td>you were on my mind</td>\n",
       "      <td>we five</td>\n",
       "      <td>1965</td>\n",
       "      <td>when i woke up this morning you were on my mi...</td>\n",
       "      <td>1960</td>\n",
       "    </tr>\n",
       "    <tr>\n",
       "      <th>4</th>\n",
       "      <td>5</td>\n",
       "      <td>youve lost that lovin feelin</td>\n",
       "      <td>the righteous brothers</td>\n",
       "      <td>1965</td>\n",
       "      <td>you never close your eyes anymore when i kiss...</td>\n",
       "      <td>1960</td>\n",
       "    </tr>\n",
       "    <tr>\n",
       "      <th>5</th>\n",
       "      <td>6</td>\n",
       "      <td>downtown</td>\n",
       "      <td>petula clark</td>\n",
       "      <td>1965</td>\n",
       "      <td>when youre alone and life is making you lonel...</td>\n",
       "      <td>1960</td>\n",
       "    </tr>\n",
       "  </tbody>\n",
       "</table>\n",
       "</div>"
      ],
      "text/plain": [
       "   Rank                                      Song  \\\n",
       "0     1                               wooly bully   \n",
       "1     2  i cant help myself sugar pie honey bunch   \n",
       "3     4                       you were on my mind   \n",
       "4     5              youve lost that lovin feelin   \n",
       "5     6                                  downtown   \n",
       "\n",
       "                          Artist  Year  \\\n",
       "0  sam the sham and the pharaohs  1965   \n",
       "1                      four tops  1965   \n",
       "3                        we five  1965   \n",
       "4         the righteous brothers  1965   \n",
       "5                   petula clark  1965   \n",
       "\n",
       "                                              Lyrics  Decade  \n",
       "0  sam the sham miscellaneous wooly bully wooly b...    1960  \n",
       "1   sugar pie honey bunch you know that i love yo...    1960  \n",
       "3   when i woke up this morning you were on my mi...    1960  \n",
       "4   you never close your eyes anymore when i kiss...    1960  \n",
       "5   when youre alone and life is making you lonel...    1960  "
      ]
     },
     "execution_count": 78,
     "metadata": {},
     "output_type": "execute_result"
    }
   ],
   "source": [
    "# Dropping the scource column from the data\n",
    "new_dat = new_dat.drop(columns='Source')\n",
    "new_dat.head()"
   ]
  },
  {
   "cell_type": "code",
   "execution_count": 79,
   "metadata": {},
   "outputs": [],
   "source": [
    "# Exporting the data to a new csv\n",
    "new_dat.to_csv('clean_songs.csv')"
   ]
  },
  {
   "cell_type": "code",
   "execution_count": null,
   "metadata": {},
   "outputs": [],
   "source": []
  },
  {
   "cell_type": "markdown",
   "metadata": {},
   "source": [
    "# Artifacts\n",
    "The code below is not actually a real part of the document, but has been stored for posterity to remind me specifically of what I had been doing through this project."
   ]
  },
  {
   "cell_type": "code",
   "execution_count": 66,
   "metadata": {},
   "outputs": [
    {
     "data": {
      "text/html": [
       "<div>\n",
       "<style scoped>\n",
       "    .dataframe tbody tr th:only-of-type {\n",
       "        vertical-align: middle;\n",
       "    }\n",
       "\n",
       "    .dataframe tbody tr th {\n",
       "        vertical-align: top;\n",
       "    }\n",
       "\n",
       "    .dataframe thead th {\n",
       "        text-align: right;\n",
       "    }\n",
       "</style>\n",
       "<table border=\"1\" class=\"dataframe\">\n",
       "  <thead>\n",
       "    <tr style=\"text-align: right;\">\n",
       "      <th></th>\n",
       "      <th>Rank</th>\n",
       "      <th>Song</th>\n",
       "      <th>Artist</th>\n",
       "      <th>Year</th>\n",
       "      <th>Lyrics</th>\n",
       "      <th>Decade</th>\n",
       "    </tr>\n",
       "  </thead>\n",
       "  <tbody>\n",
       "    <tr>\n",
       "      <th>0</th>\n",
       "      <td>1</td>\n",
       "      <td>wooly bully</td>\n",
       "      <td>sam the sham and the pharaohs</td>\n",
       "      <td>1965</td>\n",
       "      <td>sam the sham miscellaneous wooly bully wooly b...</td>\n",
       "      <td>1960</td>\n",
       "    </tr>\n",
       "    <tr>\n",
       "      <th>1</th>\n",
       "      <td>2</td>\n",
       "      <td>i cant help myself sugar pie honey bunch</td>\n",
       "      <td>four tops</td>\n",
       "      <td>1965</td>\n",
       "      <td>sugar pie honey bunch you know that i love yo...</td>\n",
       "      <td>1960</td>\n",
       "    </tr>\n",
       "    <tr>\n",
       "      <th>3</th>\n",
       "      <td>4</td>\n",
       "      <td>you were on my mind</td>\n",
       "      <td>we five</td>\n",
       "      <td>1965</td>\n",
       "      <td>when i woke up this morning you were on my mi...</td>\n",
       "      <td>1960</td>\n",
       "    </tr>\n",
       "    <tr>\n",
       "      <th>4</th>\n",
       "      <td>5</td>\n",
       "      <td>youve lost that lovin feelin</td>\n",
       "      <td>the righteous brothers</td>\n",
       "      <td>1965</td>\n",
       "      <td>you never close your eyes anymore when i kiss...</td>\n",
       "      <td>1960</td>\n",
       "    </tr>\n",
       "    <tr>\n",
       "      <th>5</th>\n",
       "      <td>6</td>\n",
       "      <td>downtown</td>\n",
       "      <td>petula clark</td>\n",
       "      <td>1965</td>\n",
       "      <td>when youre alone and life is making you lonel...</td>\n",
       "      <td>1960</td>\n",
       "    </tr>\n",
       "  </tbody>\n",
       "</table>\n",
       "</div>"
      ],
      "text/plain": [
       "   Rank                                      Song  \\\n",
       "0     1                               wooly bully   \n",
       "1     2  i cant help myself sugar pie honey bunch   \n",
       "3     4                       you were on my mind   \n",
       "4     5              youve lost that lovin feelin   \n",
       "5     6                                  downtown   \n",
       "\n",
       "                          Artist  Year  \\\n",
       "0  sam the sham and the pharaohs  1965   \n",
       "1                      four tops  1965   \n",
       "3                        we five  1965   \n",
       "4         the righteous brothers  1965   \n",
       "5                   petula clark  1965   \n",
       "\n",
       "                                              Lyrics  Decade  \n",
       "0  sam the sham miscellaneous wooly bully wooly b...    1960  \n",
       "1   sugar pie honey bunch you know that i love yo...    1960  \n",
       "3   when i woke up this morning you were on my mi...    1960  \n",
       "4   you never close your eyes anymore when i kiss...    1960  \n",
       "5   when youre alone and life is making you lonel...    1960  "
      ]
     },
     "execution_count": 66,
     "metadata": {},
     "output_type": "execute_result"
    }
   ],
   "source": [
    "def clean_text(row):\n",
    "    # This function is going to clean the text in the dataframe\n",
    "    # setting up variables\n",
    "    song = row[1]\n",
    "    art = row[2]\n",
    "    lyr = row[4]\n",
    "    \n",
    "    # replacing lyrics based off what was observed in data cleaning steps\n",
    "    if lyr.startswith(art):\n",
    "       lyr = lyr.replace(row['Artist'], \"\", 1)\n",
    "    \n",
    "    if lyr.startswith(' miscellaneous'):\n",
    "       lyr = lyr.replace(' miscellaneous', \"\", 1)\n",
    "    \n",
    "    if lyr.startswith(' artist'):\n",
    "        tes.at[index, 'Lyrics'] = lyr.replace(' artist', \"\", 1)\n",
    "    if lyr.startswith(' '+art):\n",
    "       tes.at[index, 'Lyrics'] = lyr.replace(' ' + art, \"\", 1)\n",
    "    \n",
    "    if 'chorus' in lyr:\n",
    "        lyr = lyr.replace('chorus', '')\n",
    "    if 'verse' in lyr:\n",
    "        lyr = lyr.replace('verse', '')\n",
    "        \n",
    "    row[4] = lyr\n",
    "    return row\n",
    "\n",
    "test = new_dat.apply(clean_text, axis=1)\n",
    "test.head()\n"
   ]
  },
  {
   "cell_type": "code",
   "execution_count": null,
   "metadata": {},
   "outputs": [],
   "source": [
    "# Fixing songs with the artist name in them\n",
    "old = new_dat\n",
    "tes = new_dat\n",
    "teser = []\n",
    "\n",
    "# This checks for data that starts with the artist name, then replaces the artist name at the beginning\n",
    "for index, row in tes.iterrows():\n",
    "    art = row['Artist']\n",
    "    lyr = row['Lyrics']\n",
    "    if lyr.startswith(art):\n",
    "       tes.at[index, 'Lyrics'] = lyr.replace(row['Artist'], \"\", 1)\n",
    "       teser.append(index)\n",
    "\n",
    "# many of the lyrics here have miscellaneous after artist name, so to remove it\n",
    "for index, row in tes.loc[teser].iterrows():\n",
    "    lyr = row['Lyrics']\n",
    "    if lyr.startswith(' miscellaneous'):\n",
    "       tes.at[index, 'Lyrics'] = lyr.replace(' miscellaneous', \"\", 1)\n",
    "\n",
    "# This gets rid of songs that radnomly have song names once/twice at the beginning, this may accidentally remove an extra phrase\n",
    "# from a song, however this is the cleanest solution I thought to use without schecking each track individually\n",
    "for index, row in tes.loc[teser].iterrows():\n",
    "    song = row['Song']\n",
    "    lyr = row['Lyrics']\n",
    "    if lyr.startswith(' ' + song):\n",
    "        tes.at[index, 'Lyrics'] = lyr.replace(' ' + song, \"\", 2)\n",
    "        \n",
    "# now, the most obvious mistakes are songs starting with the word 'artist' an then the artist name again, so to address those\n",
    "# errors:\n",
    "for index, row in tes.loc[teser].iterrows():\n",
    "    art = row['Artist']\n",
    "    lyr = row['Lyrics']\n",
    "    if lyr.startswith(' artist'):\n",
    "        tes.at[index, 'Lyrics'] = lyr.replace(' artist', \"\", 1)\n",
    "    if lyr.startswith(' '+art):\n",
    "       tes.at[index, 'Lyrics'] = lyr.replace(' ' + art, \"\", 1)"
   ]
  },
  {
   "cell_type": "code",
   "execution_count": null,
   "metadata": {},
   "outputs": [],
   "source": []
  }
 ],
 "metadata": {
  "kernelspec": {
   "display_name": "Python 3",
   "language": "python",
   "name": "python3"
  },
  "language_info": {
   "codemirror_mode": {
    "name": "ipython",
    "version": 3
   },
   "file_extension": ".py",
   "mimetype": "text/x-python",
   "name": "python",
   "nbconvert_exporter": "python",
   "pygments_lexer": "ipython3",
   "version": "3.6.5"
  }
 },
 "nbformat": 4,
 "nbformat_minor": 2
}
