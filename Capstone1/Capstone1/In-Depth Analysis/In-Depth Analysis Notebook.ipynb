{
 "cells": [
  {
   "cell_type": "markdown",
   "metadata": {},
   "source": [
    "# In-Depth Analysis Notebook\n",
    "In this notebook I will be completing the final programming work for my first Springboard capstone project. The goal of this project is to write an algorithm that will predict which decade a song is from given the lyrics of the song.\n",
    "\n",
    "So far in the project I have cleaned the data and created a dataframe of tf-idf values for the lyrics of each song. These tf-idf values will be the source of the features for the predictive model. The first task to be tackled in this notebook will be to write a few classifiers and analyze their results, I plan on looking at writing the following classifiers:\n",
    "- Support vector machines\n",
    "- Random forest\n",
    "- XGBoost\n",
    "\n",
    "I plan on analyzing the results of these classifiers in depth and comparing the reults of these models to each other in order to determine which of these is the best classifier for this problem given the feature set that we have."
   ]
  },
  {
   "cell_type": "code",
   "execution_count": 1,
   "metadata": {},
   "outputs": [],
   "source": [
    "# Importing packages\n",
    "import pandas as pd\n",
    "import numpy as np\n",
    "import matplotlib.pyplot as plt\n",
    "import seaborn as sns\n",
    "from sklearn.decomposition import PCA"
   ]
  },
  {
   "cell_type": "code",
   "execution_count": 2,
   "metadata": {},
   "outputs": [],
   "source": [
    "#importing data and presenting the heads of the source data and tf-idf data to provide context\n",
    "songs = pd.read_csv('basedata.csv')\n",
    "songs = songs.drop('Unnamed: 0', axis=1)\n",
    "tfdata = pd.read_csv('tfdata.csv')\n",
    "tfdata = tfdata.drop('Unnamed: 0', axis=1)"
   ]
  },
  {
   "cell_type": "code",
   "execution_count": 3,
   "metadata": {},
   "outputs": [
    {
     "data": {
      "text/html": [
       "<div>\n",
       "<style scoped>\n",
       "    .dataframe tbody tr th:only-of-type {\n",
       "        vertical-align: middle;\n",
       "    }\n",
       "\n",
       "    .dataframe tbody tr th {\n",
       "        vertical-align: top;\n",
       "    }\n",
       "\n",
       "    .dataframe thead th {\n",
       "        text-align: right;\n",
       "    }\n",
       "</style>\n",
       "<table border=\"1\" class=\"dataframe\">\n",
       "  <thead>\n",
       "    <tr style=\"text-align: right;\">\n",
       "      <th></th>\n",
       "      <th>Rank</th>\n",
       "      <th>Song</th>\n",
       "      <th>Artist</th>\n",
       "      <th>Year</th>\n",
       "      <th>Lyrics</th>\n",
       "      <th>Decade</th>\n",
       "      <th>Tokens</th>\n",
       "    </tr>\n",
       "  </thead>\n",
       "  <tbody>\n",
       "    <tr>\n",
       "      <th>0</th>\n",
       "      <td>1</td>\n",
       "      <td>wooly bully</td>\n",
       "      <td>sam the sham and the pharaohs</td>\n",
       "      <td>1965</td>\n",
       "      <td>sam the sham miscellaneous wooly bully wooly b...</td>\n",
       "      <td>1960</td>\n",
       "      <td>['sam', 'sham', 'miscellaneous', 'wooly', 'bul...</td>\n",
       "    </tr>\n",
       "    <tr>\n",
       "      <th>1</th>\n",
       "      <td>2</td>\n",
       "      <td>i cant help myself sugar pie honey bunch</td>\n",
       "      <td>four tops</td>\n",
       "      <td>1965</td>\n",
       "      <td>sugar pie honey bunch you know that i love yo...</td>\n",
       "      <td>1960</td>\n",
       "      <td>['sugar', 'pie', 'honey', 'bunch', 'know', 'lo...</td>\n",
       "    </tr>\n",
       "    <tr>\n",
       "      <th>2</th>\n",
       "      <td>4</td>\n",
       "      <td>you were on my mind</td>\n",
       "      <td>we five</td>\n",
       "      <td>1965</td>\n",
       "      <td>when i woke up this morning you were on my mi...</td>\n",
       "      <td>1960</td>\n",
       "      <td>['woke', 'morning', 'mind', 'mind', 'got', 'tr...</td>\n",
       "    </tr>\n",
       "    <tr>\n",
       "      <th>3</th>\n",
       "      <td>5</td>\n",
       "      <td>youve lost that lovin feelin</td>\n",
       "      <td>the righteous brothers</td>\n",
       "      <td>1965</td>\n",
       "      <td>you never close your eyes anymore when i kiss...</td>\n",
       "      <td>1960</td>\n",
       "      <td>['never', 'close', 'eyes', 'anymore', 'kiss', ...</td>\n",
       "    </tr>\n",
       "    <tr>\n",
       "      <th>4</th>\n",
       "      <td>6</td>\n",
       "      <td>downtown</td>\n",
       "      <td>petula clark</td>\n",
       "      <td>1965</td>\n",
       "      <td>when youre alone and life is making you lonel...</td>\n",
       "      <td>1960</td>\n",
       "      <td>['alone', 'life', 'making', 'lonely', 'always'...</td>\n",
       "    </tr>\n",
       "  </tbody>\n",
       "</table>\n",
       "</div>"
      ],
      "text/plain": [
       "   Rank                                      Song  \\\n",
       "0     1                               wooly bully   \n",
       "1     2  i cant help myself sugar pie honey bunch   \n",
       "2     4                       you were on my mind   \n",
       "3     5              youve lost that lovin feelin   \n",
       "4     6                                  downtown   \n",
       "\n",
       "                          Artist  Year  \\\n",
       "0  sam the sham and the pharaohs  1965   \n",
       "1                      four tops  1965   \n",
       "2                        we five  1965   \n",
       "3         the righteous brothers  1965   \n",
       "4                   petula clark  1965   \n",
       "\n",
       "                                              Lyrics  Decade  \\\n",
       "0  sam the sham miscellaneous wooly bully wooly b...    1960   \n",
       "1   sugar pie honey bunch you know that i love yo...    1960   \n",
       "2   when i woke up this morning you were on my mi...    1960   \n",
       "3   you never close your eyes anymore when i kiss...    1960   \n",
       "4   when youre alone and life is making you lonel...    1960   \n",
       "\n",
       "                                              Tokens  \n",
       "0  ['sam', 'sham', 'miscellaneous', 'wooly', 'bul...  \n",
       "1  ['sugar', 'pie', 'honey', 'bunch', 'know', 'lo...  \n",
       "2  ['woke', 'morning', 'mind', 'mind', 'got', 'tr...  \n",
       "3  ['never', 'close', 'eyes', 'anymore', 'kiss', ...  \n",
       "4  ['alone', 'life', 'making', 'lonely', 'always'...  "
      ]
     },
     "execution_count": 3,
     "metadata": {},
     "output_type": "execute_result"
    }
   ],
   "source": [
    "# displaying the original data\n",
    "songs.head()"
   ]
  },
  {
   "cell_type": "code",
   "execution_count": 4,
   "metadata": {},
   "outputs": [
    {
     "data": {
      "text/html": [
       "<div>\n",
       "<style scoped>\n",
       "    .dataframe tbody tr th:only-of-type {\n",
       "        vertical-align: middle;\n",
       "    }\n",
       "\n",
       "    .dataframe tbody tr th {\n",
       "        vertical-align: top;\n",
       "    }\n",
       "\n",
       "    .dataframe thead th {\n",
       "        text-align: right;\n",
       "    }\n",
       "</style>\n",
       "<table border=\"1\" class=\"dataframe\">\n",
       "  <thead>\n",
       "    <tr style=\"text-align: right;\">\n",
       "      <th></th>\n",
       "      <th>able</th>\n",
       "      <th>accept</th>\n",
       "      <th>aching</th>\n",
       "      <th>across</th>\n",
       "      <th>act</th>\n",
       "      <th>actin</th>\n",
       "      <th>acting</th>\n",
       "      <th>action</th>\n",
       "      <th>add</th>\n",
       "      <th>addicted</th>\n",
       "      <th>...</th>\n",
       "      <th>yesterday</th>\n",
       "      <th>yet</th>\n",
       "      <th>yo</th>\n",
       "      <th>york</th>\n",
       "      <th>young</th>\n",
       "      <th>younger</th>\n",
       "      <th>yup</th>\n",
       "      <th>zero</th>\n",
       "      <th>zone</th>\n",
       "      <th>Decade</th>\n",
       "    </tr>\n",
       "  </thead>\n",
       "  <tbody>\n",
       "    <tr>\n",
       "      <th>0</th>\n",
       "      <td>NaN</td>\n",
       "      <td>NaN</td>\n",
       "      <td>NaN</td>\n",
       "      <td>NaN</td>\n",
       "      <td>NaN</td>\n",
       "      <td>NaN</td>\n",
       "      <td>NaN</td>\n",
       "      <td>NaN</td>\n",
       "      <td>NaN</td>\n",
       "      <td>NaN</td>\n",
       "      <td>...</td>\n",
       "      <td>NaN</td>\n",
       "      <td>NaN</td>\n",
       "      <td>NaN</td>\n",
       "      <td>NaN</td>\n",
       "      <td>NaN</td>\n",
       "      <td>NaN</td>\n",
       "      <td>NaN</td>\n",
       "      <td>NaN</td>\n",
       "      <td>NaN</td>\n",
       "      <td>1960</td>\n",
       "    </tr>\n",
       "    <tr>\n",
       "      <th>1</th>\n",
       "      <td>NaN</td>\n",
       "      <td>NaN</td>\n",
       "      <td>NaN</td>\n",
       "      <td>NaN</td>\n",
       "      <td>NaN</td>\n",
       "      <td>NaN</td>\n",
       "      <td>NaN</td>\n",
       "      <td>NaN</td>\n",
       "      <td>NaN</td>\n",
       "      <td>NaN</td>\n",
       "      <td>...</td>\n",
       "      <td>NaN</td>\n",
       "      <td>NaN</td>\n",
       "      <td>NaN</td>\n",
       "      <td>NaN</td>\n",
       "      <td>NaN</td>\n",
       "      <td>NaN</td>\n",
       "      <td>NaN</td>\n",
       "      <td>NaN</td>\n",
       "      <td>NaN</td>\n",
       "      <td>1960</td>\n",
       "    </tr>\n",
       "    <tr>\n",
       "      <th>2</th>\n",
       "      <td>NaN</td>\n",
       "      <td>NaN</td>\n",
       "      <td>NaN</td>\n",
       "      <td>NaN</td>\n",
       "      <td>NaN</td>\n",
       "      <td>NaN</td>\n",
       "      <td>NaN</td>\n",
       "      <td>NaN</td>\n",
       "      <td>NaN</td>\n",
       "      <td>NaN</td>\n",
       "      <td>...</td>\n",
       "      <td>NaN</td>\n",
       "      <td>NaN</td>\n",
       "      <td>NaN</td>\n",
       "      <td>NaN</td>\n",
       "      <td>NaN</td>\n",
       "      <td>NaN</td>\n",
       "      <td>NaN</td>\n",
       "      <td>NaN</td>\n",
       "      <td>NaN</td>\n",
       "      <td>1960</td>\n",
       "    </tr>\n",
       "    <tr>\n",
       "      <th>3</th>\n",
       "      <td>NaN</td>\n",
       "      <td>NaN</td>\n",
       "      <td>NaN</td>\n",
       "      <td>NaN</td>\n",
       "      <td>NaN</td>\n",
       "      <td>NaN</td>\n",
       "      <td>NaN</td>\n",
       "      <td>NaN</td>\n",
       "      <td>NaN</td>\n",
       "      <td>NaN</td>\n",
       "      <td>...</td>\n",
       "      <td>NaN</td>\n",
       "      <td>NaN</td>\n",
       "      <td>NaN</td>\n",
       "      <td>NaN</td>\n",
       "      <td>NaN</td>\n",
       "      <td>NaN</td>\n",
       "      <td>NaN</td>\n",
       "      <td>NaN</td>\n",
       "      <td>NaN</td>\n",
       "      <td>1960</td>\n",
       "    </tr>\n",
       "    <tr>\n",
       "      <th>4</th>\n",
       "      <td>NaN</td>\n",
       "      <td>NaN</td>\n",
       "      <td>NaN</td>\n",
       "      <td>NaN</td>\n",
       "      <td>NaN</td>\n",
       "      <td>NaN</td>\n",
       "      <td>NaN</td>\n",
       "      <td>NaN</td>\n",
       "      <td>NaN</td>\n",
       "      <td>NaN</td>\n",
       "      <td>...</td>\n",
       "      <td>NaN</td>\n",
       "      <td>NaN</td>\n",
       "      <td>NaN</td>\n",
       "      <td>NaN</td>\n",
       "      <td>NaN</td>\n",
       "      <td>NaN</td>\n",
       "      <td>NaN</td>\n",
       "      <td>NaN</td>\n",
       "      <td>NaN</td>\n",
       "      <td>1960</td>\n",
       "    </tr>\n",
       "  </tbody>\n",
       "</table>\n",
       "<p>5 rows × 3200 columns</p>\n",
       "</div>"
      ],
      "text/plain": [
       "   able  accept  aching  across  act  actin  acting  action  add  addicted  \\\n",
       "0   NaN     NaN     NaN     NaN  NaN    NaN     NaN     NaN  NaN       NaN   \n",
       "1   NaN     NaN     NaN     NaN  NaN    NaN     NaN     NaN  NaN       NaN   \n",
       "2   NaN     NaN     NaN     NaN  NaN    NaN     NaN     NaN  NaN       NaN   \n",
       "3   NaN     NaN     NaN     NaN  NaN    NaN     NaN     NaN  NaN       NaN   \n",
       "4   NaN     NaN     NaN     NaN  NaN    NaN     NaN     NaN  NaN       NaN   \n",
       "\n",
       "   ...  yesterday  yet  yo  york  young  younger  yup  zero  zone  Decade  \n",
       "0  ...        NaN  NaN NaN   NaN    NaN      NaN  NaN   NaN   NaN    1960  \n",
       "1  ...        NaN  NaN NaN   NaN    NaN      NaN  NaN   NaN   NaN    1960  \n",
       "2  ...        NaN  NaN NaN   NaN    NaN      NaN  NaN   NaN   NaN    1960  \n",
       "3  ...        NaN  NaN NaN   NaN    NaN      NaN  NaN   NaN   NaN    1960  \n",
       "4  ...        NaN  NaN NaN   NaN    NaN      NaN  NaN   NaN   NaN    1960  \n",
       "\n",
       "[5 rows x 3200 columns]"
      ]
     },
     "execution_count": 4,
     "metadata": {},
     "output_type": "execute_result"
    }
   ],
   "source": [
    "# displaying the tf-idf data\n",
    "tfdata.head()"
   ]
  },
  {
   "cell_type": "markdown",
   "metadata": {},
   "source": [
    "# Out of the Box Models\n",
    "In the next section I am going to observe the results of the classifiers out of the box on the 'raw' tf-idf data. I will use the results of these models as a baseline to work from in looking at tuning these models into the best classifiers possible."
   ]
  },
  {
   "cell_type": "markdown",
   "metadata": {},
   "source": [
    "# Support Vector Machine Classifier\n",
    "The following code will be the initial SVM classifier on the tf-idf data that I have. "
   ]
  },
  {
   "cell_type": "code",
   "execution_count": 3,
   "metadata": {},
   "outputs": [],
   "source": [
    "#importing more packges\n",
    "from sklearn import svm\n",
    "from sklearn.model_selection import train_test_split"
   ]
  },
  {
   "cell_type": "code",
   "execution_count": 4,
   "metadata": {},
   "outputs": [],
   "source": [
    "# setting up data\n",
    "feats = tfdata.drop('Decade', axis=1).fillna(0)\n",
    "labs = tfdata.Decade"
   ]
  },
  {
   "cell_type": "code",
   "execution_count": 7,
   "metadata": {},
   "outputs": [],
   "source": [
    "# creating testing and training data\n",
    "Xtr, Xte, ytr, yte = train_test_split(feats, labs, test_size = 0.2, random_state=5)"
   ]
  },
  {
   "cell_type": "code",
   "execution_count": 8,
   "metadata": {},
   "outputs": [],
   "source": [
    "#instantiating the SVM\n",
    "clf = svm.SVC(gamma='auto', random_state=5)"
   ]
  },
  {
   "cell_type": "code",
   "execution_count": 9,
   "metadata": {},
   "outputs": [],
   "source": [
    "#out of the box performance of the svm\n",
    "fit = clf.fit(Xtr, ytr)"
   ]
  },
  {
   "cell_type": "code",
   "execution_count": 10,
   "metadata": {},
   "outputs": [
    {
     "data": {
      "text/plain": [
       "0.20257731958762887"
      ]
     },
     "execution_count": 10,
     "metadata": {},
     "output_type": "execute_result"
    }
   ],
   "source": [
    "fit.score(Xtr, ytr)"
   ]
  },
  {
   "cell_type": "code",
   "execution_count": 11,
   "metadata": {},
   "outputs": [
    {
     "data": {
      "text/plain": [
       "0.19361483007209063"
      ]
     },
     "execution_count": 11,
     "metadata": {},
     "output_type": "execute_result"
    }
   ],
   "source": [
    "fit.score(Xte, yte)"
   ]
  },
  {
   "cell_type": "markdown",
   "metadata": {},
   "source": [
    "Observing our results here, the out of the box SVM has a slightly better than random chance on its own training data, as well as a similar, but slightly worse performance on the testing data. This SVM is heavy on computational time and does not seem like it can provide a great classifier currently. We will come back to this later."
   ]
  },
  {
   "cell_type": "markdown",
   "metadata": {},
   "source": [
    "# Random Forest Classifier\n",
    "Now, I will look at creating a random forest classifier."
   ]
  },
  {
   "cell_type": "code",
   "execution_count": 5,
   "metadata": {},
   "outputs": [],
   "source": [
    "#importing the random forest classifier\n",
    "from sklearn.ensemble import RandomForestClassifier"
   ]
  },
  {
   "cell_type": "code",
   "execution_count": 13,
   "metadata": {},
   "outputs": [],
   "source": [
    "# instantiating the classifier\n",
    "rfc = RandomForestClassifier(random_state=5)"
   ]
  },
  {
   "cell_type": "code",
   "execution_count": 14,
   "metadata": {},
   "outputs": [
    {
     "name": "stderr",
     "output_type": "stream",
     "text": [
      "D:\\Ana\\lib\\site-packages\\sklearn\\ensemble\\forest.py:245: FutureWarning: The default value of n_estimators will change from 10 in version 0.20 to 100 in 0.22.\n",
      "  \"10 in version 0.20 to 100 in 0.22.\", FutureWarning)\n"
     ]
    }
   ],
   "source": [
    "fit_rfc = rfc.fit(Xtr, ytr)"
   ]
  },
  {
   "cell_type": "code",
   "execution_count": 15,
   "metadata": {},
   "outputs": [
    {
     "data": {
      "text/plain": [
       "0.9850515463917526"
      ]
     },
     "execution_count": 15,
     "metadata": {},
     "output_type": "execute_result"
    }
   ],
   "source": [
    "fit_rfc.score(Xtr, ytr)"
   ]
  },
  {
   "cell_type": "code",
   "execution_count": 16,
   "metadata": {},
   "outputs": [
    {
     "data": {
      "text/plain": [
       "0.3274974253347065"
      ]
     },
     "execution_count": 16,
     "metadata": {},
     "output_type": "execute_result"
    }
   ],
   "source": [
    "fit_rfc.score(Xte, yte)"
   ]
  },
  {
   "cell_type": "markdown",
   "metadata": {},
   "source": [
    "Well, the out of the box random forest is significantly better than the out of the box SVM. The model trained quickly and was quite a bit better at classifying the testing data. These results are still not ipressive, but I think this may be promising as a model to tune in the future. "
   ]
  },
  {
   "cell_type": "markdown",
   "metadata": {},
   "source": [
    "# XGBoost Classifier\n",
    "Now I will observe the results of an out of the box XGBoost classifier."
   ]
  },
  {
   "cell_type": "code",
   "execution_count": 6,
   "metadata": {},
   "outputs": [],
   "source": [
    "#Importing XGBoost\n",
    "import xgboost as xgb"
   ]
  },
  {
   "cell_type": "code",
   "execution_count": 18,
   "metadata": {},
   "outputs": [],
   "source": [
    "XGC = xgb.XGBClassifier()"
   ]
  },
  {
   "cell_type": "code",
   "execution_count": 19,
   "metadata": {},
   "outputs": [],
   "source": [
    "fitX = XGC.fit(Xtr, ytr)"
   ]
  },
  {
   "cell_type": "code",
   "execution_count": 20,
   "metadata": {},
   "outputs": [],
   "source": [
    "trpredX = fitX.predict(Xtr)"
   ]
  },
  {
   "cell_type": "code",
   "execution_count": 21,
   "metadata": {},
   "outputs": [
    {
     "data": {
      "text/plain": [
       "0.6971649484536082"
      ]
     },
     "execution_count": 21,
     "metadata": {},
     "output_type": "execute_result"
    }
   ],
   "source": [
    "acc = sum(trpredX == ytr)/len(ytr)\n",
    "acc"
   ]
  },
  {
   "cell_type": "code",
   "execution_count": 22,
   "metadata": {},
   "outputs": [],
   "source": [
    "predX = fitX.predict(Xte)"
   ]
  },
  {
   "cell_type": "code",
   "execution_count": 23,
   "metadata": {},
   "outputs": [
    {
     "data": {
      "text/plain": [
       "0.37590113285272914"
      ]
     },
     "execution_count": 23,
     "metadata": {},
     "output_type": "execute_result"
    }
   ],
   "source": [
    "accuracy = sum(predX == yte)/len(predX)\n",
    "accuracy"
   ]
  },
  {
   "cell_type": "markdown",
   "metadata": {},
   "source": [
    "The results of the out of the box XGBoost are quite interesting to me. The calssifier does not perform as well on the training data as the random forest model, but it performs better on the testing data. This model performed best out of the box, so it may end up being the best choice of model after some further observations and parameter tuning."
   ]
  },
  {
   "cell_type": "markdown",
   "metadata": {},
   "source": [
    "# Starting PCA\n",
    "I have not done any PCA on this data before starting this document, so the first goal will be to apply PCA to the tf-idf data and try to determine what number of principal components to use as the features of the predictive model."
   ]
  },
  {
   "cell_type": "code",
   "execution_count": 7,
   "metadata": {},
   "outputs": [],
   "source": [
    "# pulling out features\n",
    "feats = tfdata.drop('Decade', axis=1)\n",
    "feats = feats.fillna(0)"
   ]
  },
  {
   "cell_type": "code",
   "execution_count": 25,
   "metadata": {},
   "outputs": [],
   "source": [
    "#instantiating pca model, fitting and tranforming it\n",
    "#setting random state for reproducibility\n",
    "pca = PCA(random_state=5)\n",
    "comps = pca.fit_transform(feats)"
   ]
  },
  {
   "cell_type": "code",
   "execution_count": 26,
   "metadata": {
    "scrolled": true
   },
   "outputs": [
    {
     "data": {
      "text/plain": [
       "Text(0.5, 1.0, 'Explained variance of first 20 components')"
      ]
     },
     "execution_count": 26,
     "metadata": {},
     "output_type": "execute_result"
    },
    {
     "data": {
      "image/png": "[encoded data removed]",
      "text/plain": [
       "<Figure size 432x288 with 1 Axes>"
      ]
     },
     "metadata": {
      "needs_background": "light"
     },
     "output_type": "display_data"
    }
   ],
   "source": [
    "plt.bar(range(0,20),pca.explained_variance_ratio_[:20])\n",
    "plt.title('Explained variance of first 20 components')"
   ]
  },
  {
   "cell_type": "code",
   "execution_count": 27,
   "metadata": {},
   "outputs": [],
   "source": [
    "sum_var = [pca.explained_variance_[0]]\n",
    "i=0\n",
    "for val in pca.explained_variance_[1:]:\n",
    "    sum_var.append(sum_var[i]+val)\n",
    "    i += 1"
   ]
  },
  {
   "cell_type": "code",
   "execution_count": 28,
   "metadata": {},
   "outputs": [
    {
     "data": {
      "text/plain": [
       "Text(0, 0.5, 'Cumulative Explained Variance')"
      ]
     },
     "execution_count": 28,
     "metadata": {},
     "output_type": "execute_result"
    },
    {
     "data": {
      "image/png": "[encoded data removed]",
      "text/plain": [
       "<Figure size 432x288 with 1 Axes>"
      ]
     },
     "metadata": {
      "needs_background": "light"
     },
     "output_type": "display_data"
    }
   ],
   "source": [
    "plt.plot(range(0, 3199), np.cumsum(pca.explained_variance_ratio_))\n",
    "plt.title('Cumulative Explained Variance of Components')\n",
    "plt.xlabel('Number of Components')\n",
    "plt.ylabel('Cumulative Explained Variance')"
   ]
  },
  {
   "cell_type": "code",
   "execution_count": null,
   "metadata": {},
   "outputs": [],
   "source": []
  },
  {
   "cell_type": "markdown",
   "metadata": {},
   "source": [
    "Observing the results of the primary component analysis, it seems that a maximium number of primary components contains approximately 70% of the explaine variance in the data. That value seems to flatten out around 2000. I would now like to re-run our out of the box models on primary component numbers of 1000, 1500, and 2000, to see if the primary components are able to inform our classifiesrs better."
   ]
  },
  {
   "cell_type": "markdown",
   "metadata": {},
   "source": [
    "# Returning to models\n",
    "I will now run through the out of the box models that we looked at before, calculating accuracy scores for each of the models again, and checking to see what peforemance we get from each model based on a number of primary components. "
   ]
  },
  {
   "cell_type": "code",
   "execution_count": 8,
   "metadata": {},
   "outputs": [],
   "source": [
    "# writing a function to partially automate scoring testing\n",
    "def pca_split_scores(features, feature_nums, targets, model):\n",
    "    '''Takes a set of features, a list of numbers of features, and a model, and returns accuracy scores for each.'''\n",
    "    scores = []\n",
    "    for n in feature_nums:\n",
    "        feats = features[:,:n]\n",
    "        Xtr, Xte, ytr, yte = train_test_split(feats, targets, test_size=0.2, random_state=5)\n",
    "        clf = model\n",
    "        fit = clf.fit(Xtr, ytr)\n",
    "        train_score = fit.score(Xtr, ytr)\n",
    "        test_score = fit.score(Xte, yte)\n",
    "        score_statement = 'For n = ' + str(n) +' primary components: Training accuracy = ' + str(round(train_score, 3)) + ' Testing accuracy = ' + str(round(test_score, 3))\n",
    "        scores.append(score_statement)\n",
    "    return scores"
   ]
  },
  {
   "cell_type": "code",
   "execution_count": 30,
   "metadata": {},
   "outputs": [],
   "source": [
    "nums = [1000, 1500, 2000]"
   ]
  },
  {
   "cell_type": "code",
   "execution_count": 31,
   "metadata": {},
   "outputs": [],
   "source": [
    "mod = svm.SVC(gamma='auto', random_state=5)"
   ]
  },
  {
   "cell_type": "code",
   "execution_count": 32,
   "metadata": {},
   "outputs": [],
   "source": [
    "svm_scores = pca_split_scores(comps, nums, labs, mod)"
   ]
  },
  {
   "cell_type": "code",
   "execution_count": 33,
   "metadata": {},
   "outputs": [
    {
     "name": "stdout",
     "output_type": "stream",
     "text": [
      "['For n = 1000 primary components: Training accuracy = 0.203 Testing accuracy = 0.194', 'For n = 1500 primary components: Training accuracy = 0.203 Testing accuracy = 0.194', 'For n = 2000 primary components: Training accuracy = 0.203 Testing accuracy = 0.194']\n"
     ]
    }
   ],
   "source": [
    "print(svm_scores)"
   ]
  },
  {
   "cell_type": "code",
   "execution_count": 34,
   "metadata": {},
   "outputs": [],
   "source": [
    "rf_mod = RandomForestClassifier(random_state=5)"
   ]
  },
  {
   "cell_type": "code",
   "execution_count": 35,
   "metadata": {},
   "outputs": [
    {
     "name": "stderr",
     "output_type": "stream",
     "text": [
      "D:\\Ana\\lib\\site-packages\\sklearn\\ensemble\\forest.py:245: FutureWarning: The default value of n_estimators will change from 10 in version 0.20 to 100 in 0.22.\n",
      "  \"10 in version 0.20 to 100 in 0.22.\", FutureWarning)\n"
     ]
    }
   ],
   "source": [
    "rf_scores = pca_split_scores(comps, nums, labs, rf_mod)"
   ]
  },
  {
   "cell_type": "code",
   "execution_count": 36,
   "metadata": {},
   "outputs": [
    {
     "data": {
      "text/plain": [
       "['For n = 1000 primary components: Training accuracy = 0.985 Testing accuracy = 0.267',\n",
       " 'For n = 1500 primary components: Training accuracy = 0.989 Testing accuracy = 0.238',\n",
       " 'For n = 2000 primary components: Training accuracy = 0.988 Testing accuracy = 0.251']"
      ]
     },
     "execution_count": 36,
     "metadata": {},
     "output_type": "execute_result"
    }
   ],
   "source": [
    "rf_scores"
   ]
  },
  {
   "cell_type": "code",
   "execution_count": 9,
   "metadata": {},
   "outputs": [],
   "source": [
    "def pca_xgb_scores(features, feature_nums, targets, model):\n",
    "    '''Takes a set of features, a list of numbers of features, and a model, and returns accuracy scores for each.'''\n",
    "    scores = []\n",
    "    for n in feature_nums:\n",
    "        feats = features[:,:n]\n",
    "        Xtr, Xte, ytr, yte = train_test_split(feats, targets, test_size=0.2, random_state=5)\n",
    "        clf = model\n",
    "        fit = clf.fit(Xtr, ytr)\n",
    "        tr_pred = fit.predict(Xtr)\n",
    "        te_pred = fit.predict(Xte)\n",
    "        train_score = sum(tr_pred == ytr) / len(ytr)\n",
    "        test_score = sum(te_pred == yte) / len(yte)\n",
    "        score_statement = 'For n = ' + str(n) +' primary components: Training accuracy = ' + str(round(train_score, 3)) + ' Testing accuracy = ' + str(round(test_score, 3))\n",
    "        scores.append(score_statement)\n",
    "    return scores"
   ]
  },
  {
   "cell_type": "code",
   "execution_count": 38,
   "metadata": {},
   "outputs": [],
   "source": [
    "XG_mod = xgb.XGBClassifier(random_state=5)"
   ]
  },
  {
   "cell_type": "code",
   "execution_count": 39,
   "metadata": {},
   "outputs": [],
   "source": [
    "xg_scores = pca_xgb_scores(comps, nums, labs, XG_mod)"
   ]
  },
  {
   "cell_type": "code",
   "execution_count": 40,
   "metadata": {},
   "outputs": [
    {
     "data": {
      "text/plain": [
       "['For n = 1000 primary components: Training accuracy = 0.871 Testing accuracy = 0.344',\n",
       " 'For n = 1500 primary components: Training accuracy = 0.89 Testing accuracy = 0.353',\n",
       " 'For n = 2000 primary components: Training accuracy = 0.897 Testing accuracy = 0.346']"
      ]
     },
     "execution_count": 40,
     "metadata": {},
     "output_type": "execute_result"
    }
   ],
   "source": [
    "xg_scores"
   ]
  },
  {
   "cell_type": "markdown",
   "metadata": {},
   "source": [
    "# What to do next?\n",
    "PCA has not improved model performance and XGBoost is consistently our best estimator in terms of classification. Moving forward XGBoost will be the only model we look at for classifiaction, to reign in the scope of the project. I will now attempt to normalize my raw data and observe how the XGBoost model works with that data. I will then perform PCA again in hopes that it may give a better result this time."
   ]
  },
  {
   "cell_type": "code",
   "execution_count": 10,
   "metadata": {},
   "outputs": [],
   "source": [
    "from sklearn.preprocessing import StandardScaler"
   ]
  },
  {
   "cell_type": "code",
   "execution_count": 11,
   "metadata": {},
   "outputs": [],
   "source": [
    "feats = tfdata.drop('Decade', axis=1).fillna(0)"
   ]
  },
  {
   "cell_type": "code",
   "execution_count": 12,
   "metadata": {},
   "outputs": [],
   "source": [
    "scaler = StandardScaler()"
   ]
  },
  {
   "cell_type": "code",
   "execution_count": 13,
   "metadata": {},
   "outputs": [],
   "source": [
    "scaled = scaler.fit_transform(feats)"
   ]
  },
  {
   "cell_type": "code",
   "execution_count": 45,
   "metadata": {},
   "outputs": [],
   "source": [
    "Xtr, Xte, ytr, yte = train_test_split(scaled, labs, test_size=0.2, random_state=5)"
   ]
  },
  {
   "cell_type": "code",
   "execution_count": 14,
   "metadata": {},
   "outputs": [],
   "source": [
    "XGC = xgb.XGBClassifier(random_state=5)"
   ]
  },
  {
   "cell_type": "code",
   "execution_count": 47,
   "metadata": {},
   "outputs": [],
   "source": [
    "fitted = XGC.fit(Xtr, ytr)"
   ]
  },
  {
   "cell_type": "code",
   "execution_count": 48,
   "metadata": {},
   "outputs": [],
   "source": [
    "predstr= fitted.predict(Xtr)"
   ]
  },
  {
   "cell_type": "code",
   "execution_count": 49,
   "metadata": {},
   "outputs": [
    {
     "data": {
      "text/plain": [
       "0.6971649484536082"
      ]
     },
     "execution_count": 49,
     "metadata": {},
     "output_type": "execute_result"
    }
   ],
   "source": [
    "score = sum(predstr==ytr)/len(ytr)\n",
    "score"
   ]
  },
  {
   "cell_type": "code",
   "execution_count": 50,
   "metadata": {},
   "outputs": [],
   "source": [
    "preds = fitted.predict(Xte)"
   ]
  },
  {
   "cell_type": "code",
   "execution_count": 51,
   "metadata": {},
   "outputs": [
    {
     "data": {
      "text/plain": [
       "0.37590113285272914"
      ]
     },
     "execution_count": 51,
     "metadata": {},
     "output_type": "execute_result"
    }
   ],
   "source": [
    "score = sum(preds == yte)/len(yte)\n",
    "score"
   ]
  },
  {
   "cell_type": "code",
   "execution_count": 52,
   "metadata": {},
   "outputs": [],
   "source": [
    "pca = PCA(random_state=5)"
   ]
  },
  {
   "cell_type": "code",
   "execution_count": 53,
   "metadata": {},
   "outputs": [],
   "source": [
    "fit = pca.fit(scaled)"
   ]
  },
  {
   "cell_type": "code",
   "execution_count": 54,
   "metadata": {},
   "outputs": [
    {
     "data": {
      "text/plain": [
       "Text(0, 0.5, 'Cumulative Explained Variance')"
      ]
     },
     "execution_count": 54,
     "metadata": {},
     "output_type": "execute_result"
    },
    {
     "data": {
      "image/png": "[encoded data removed]",
      "text/plain": [
       "<Figure size 432x288 with 1 Axes>"
      ]
     },
     "metadata": {
      "needs_background": "light"
     },
     "output_type": "display_data"
    }
   ],
   "source": [
    "plt.plot(range(0, 3199), np.cumsum(fit.explained_variance_ratio_))\n",
    "plt.title('Cumulative Explained Variance of Components')\n",
    "plt.xlabel('Number of Components')\n",
    "plt.ylabel('Cumulative Explained Variance')"
   ]
  },
  {
   "cell_type": "code",
   "execution_count": 55,
   "metadata": {},
   "outputs": [],
   "source": [
    "trans = fit.transform(scaled)"
   ]
  },
  {
   "cell_type": "code",
   "execution_count": 56,
   "metadata": {},
   "outputs": [],
   "source": [
    "nums = [2000, 2500, 3000]"
   ]
  },
  {
   "cell_type": "code",
   "execution_count": 57,
   "metadata": {},
   "outputs": [],
   "source": [
    "scrs = pca_xgb_scores(trans, nums, labs, XGC)"
   ]
  },
  {
   "cell_type": "code",
   "execution_count": 58,
   "metadata": {},
   "outputs": [
    {
     "data": {
      "text/plain": [
       "['For n = 2000 primary components: Training accuracy = 0.888 Testing accuracy = 0.373',\n",
       " 'For n = 2500 primary components: Training accuracy = 0.904 Testing accuracy = 0.367',\n",
       " 'For n = 3000 primary components: Training accuracy = 0.915 Testing accuracy = 0.35']"
      ]
     },
     "execution_count": 58,
     "metadata": {},
     "output_type": "execute_result"
    }
   ],
   "source": [
    "scrs"
   ]
  },
  {
   "cell_type": "code",
   "execution_count": 59,
   "metadata": {},
   "outputs": [],
   "source": [
    "nums = [1000, 1500, 1750]"
   ]
  },
  {
   "cell_type": "code",
   "execution_count": 60,
   "metadata": {},
   "outputs": [],
   "source": [
    "scrs = pca_xgb_scores(trans, nums, labs, XGC)"
   ]
  },
  {
   "cell_type": "code",
   "execution_count": 61,
   "metadata": {},
   "outputs": [
    {
     "data": {
      "text/plain": [
       "['For n = 1000 primary components: Training accuracy = 0.84 Testing accuracy = 0.371',\n",
       " 'For n = 1500 primary components: Training accuracy = 0.863 Testing accuracy = 0.374',\n",
       " 'For n = 1750 primary components: Training accuracy = 0.875 Testing accuracy = 0.375']"
      ]
     },
     "execution_count": 61,
     "metadata": {},
     "output_type": "execute_result"
    }
   ],
   "source": [
    "scrs"
   ]
  },
  {
   "cell_type": "markdown",
   "metadata": {},
   "source": [
    "I will now try to find a best number of feautures by performing 5-fold cross validation on the XGBoosted model to find the best number of components for the model, I will modify my previous function slightly to do this."
   ]
  },
  {
   "cell_type": "code",
   "execution_count": 15,
   "metadata": {},
   "outputs": [],
   "source": [
    "from sklearn.model_selection import KFold\n",
    "from sklearn.model_selection import cross_val_score"
   ]
  },
  {
   "cell_type": "code",
   "execution_count": 63,
   "metadata": {},
   "outputs": [],
   "source": [
    "n_comps = list(range(1500, 2000, 25))"
   ]
  },
  {
   "cell_type": "code",
   "execution_count": 64,
   "metadata": {},
   "outputs": [],
   "source": [
    "scrs = pca_xgb_scores(trans, n_comps, labs, XGC)"
   ]
  },
  {
   "cell_type": "code",
   "execution_count": 65,
   "metadata": {},
   "outputs": [
    {
     "data": {
      "text/plain": [
       "['For n = 1500 primary components: Training accuracy = 0.863 Testing accuracy = 0.374',\n",
       " 'For n = 1525 primary components: Training accuracy = 0.864 Testing accuracy = 0.372',\n",
       " 'For n = 1550 primary components: Training accuracy = 0.863 Testing accuracy = 0.377',\n",
       " 'For n = 1575 primary components: Training accuracy = 0.867 Testing accuracy = 0.382',\n",
       " 'For n = 1600 primary components: Training accuracy = 0.869 Testing accuracy = 0.382',\n",
       " 'For n = 1625 primary components: Training accuracy = 0.868 Testing accuracy = 0.371',\n",
       " 'For n = 1650 primary components: Training accuracy = 0.872 Testing accuracy = 0.364',\n",
       " 'For n = 1675 primary components: Training accuracy = 0.874 Testing accuracy = 0.377',\n",
       " 'For n = 1700 primary components: Training accuracy = 0.872 Testing accuracy = 0.382',\n",
       " 'For n = 1725 primary components: Training accuracy = 0.878 Testing accuracy = 0.375',\n",
       " 'For n = 1750 primary components: Training accuracy = 0.875 Testing accuracy = 0.375',\n",
       " 'For n = 1775 primary components: Training accuracy = 0.873 Testing accuracy = 0.363',\n",
       " 'For n = 1800 primary components: Training accuracy = 0.878 Testing accuracy = 0.381',\n",
       " 'For n = 1825 primary components: Training accuracy = 0.871 Testing accuracy = 0.376',\n",
       " 'For n = 1850 primary components: Training accuracy = 0.874 Testing accuracy = 0.378',\n",
       " 'For n = 1875 primary components: Training accuracy = 0.879 Testing accuracy = 0.368',\n",
       " 'For n = 1900 primary components: Training accuracy = 0.883 Testing accuracy = 0.364',\n",
       " 'For n = 1925 primary components: Training accuracy = 0.881 Testing accuracy = 0.357',\n",
       " 'For n = 1950 primary components: Training accuracy = 0.881 Testing accuracy = 0.374',\n",
       " 'For n = 1975 primary components: Training accuracy = 0.882 Testing accuracy = 0.377']"
      ]
     },
     "execution_count": 65,
     "metadata": {},
     "output_type": "execute_result"
    }
   ],
   "source": [
    "scrs"
   ]
  },
  {
   "cell_type": "markdown",
   "metadata": {},
   "source": [
    "After looking for the best number of components in the range that it was expected to be in, I'm going to perform cross validation on the best performing models to get an idea for with one seems to be the most robust model, and that will be the model chosen for parameter tuning."
   ]
  },
  {
   "cell_type": "code",
   "execution_count": 16,
   "metadata": {},
   "outputs": [],
   "source": [
    "def pca_xgb_CV(features, feature_nums, targets, model):\n",
    "    '''Takes a set of features, a list of numbers of features, and a model, and returns cv accuracy scores for each.'''\n",
    "    scores = []\n",
    "    for n in feature_nums:\n",
    "        feats = features[:,:n]\n",
    "        Xtr, Xte, ytr, yte = train_test_split(feats, targets, test_size=0.2, random_state=5)\n",
    "        clf = model\n",
    "        kfold =KFold(n_splits=5, random_state=5)\n",
    "        tr_results = cross_val_score(clf, Xtr, ytr, cv=kfold)\n",
    "        te_results = cross_val_score(clf, Xte, yte, cv=kfold)\n",
    "        score_statement = 'For n = ' + str(n) +' primary components: Training accuracy = ' + str(round(np.mean(tr_results), 3)) +'std: '+ str(round(np.std(tr_results), 3))+ ' Testing accuracy = ' + str(round(np.mean(te_results),3)) + 'std: ' + str(round(np.std(te_results),3)) \n",
    "        scores.append(score_statement)\n",
    "    return scores"
   ]
  },
  {
   "cell_type": "code",
   "execution_count": 67,
   "metadata": {},
   "outputs": [],
   "source": [
    "best_comps =[1575, 1600, 1700, 1800]"
   ]
  },
  {
   "cell_type": "code",
   "execution_count": 68,
   "metadata": {},
   "outputs": [],
   "source": [
    "cv_scores = pca_xgb_CV(trans, best_comps, labs, XGC)"
   ]
  },
  {
   "cell_type": "code",
   "execution_count": 69,
   "metadata": {},
   "outputs": [
    {
     "data": {
      "text/plain": [
       "['For n = 1575 primary components: Training accuracy = 0.357std: 0.009 Testing accuracy = 0.286std: 0.026',\n",
       " 'For n = 1600 primary components: Training accuracy = 0.353std: 0.015 Testing accuracy = 0.287std: 0.029',\n",
       " 'For n = 1700 primary components: Training accuracy = 0.359std: 0.007 Testing accuracy = 0.291std: 0.015',\n",
       " 'For n = 1800 primary components: Training accuracy = 0.361std: 0.01 Testing accuracy = 0.291std: 0.028']"
      ]
     },
     "execution_count": 69,
     "metadata": {},
     "output_type": "execute_result"
    }
   ],
   "source": [
    "cv_scores"
   ]
  },
  {
   "cell_type": "markdown",
   "metadata": {},
   "source": [
    "I am going to choose to use n=1700 for the number of components of the model, as it maintained the best testing accuracy while also having a lower standard deviation in testing accuracy. The following code will be the parameter tuning for the model, I will begin to test for the optimum parameters for the model to get the best accuracy out of the model."
   ]
  },
  {
   "cell_type": "code",
   "execution_count": 17,
   "metadata": {},
   "outputs": [],
   "source": [
    "from sklearn.model_selection import RandomizedSearchCV"
   ]
  },
  {
   "cell_type": "markdown",
   "metadata": {},
   "source": [
    "I'm going to start out by finding an optimum number of estimators to use for tuning the tree parameters of the model."
   ]
  },
  {
   "cell_type": "code",
   "execution_count": 71,
   "metadata": {},
   "outputs": [],
   "source": [
    "# set up test and training data for 1700 components\n",
    "Xtr, Xte, ytr, yte = train_test_split(trans[:,:1700], labs, test_size=0.2, random_state=5)"
   ]
  },
  {
   "cell_type": "code",
   "execution_count": 72,
   "metadata": {},
   "outputs": [],
   "source": [
    "param_dict = {'n_estimators': list(range(100, 500, 25))}"
   ]
  },
  {
   "cell_type": "code",
   "execution_count": 73,
   "metadata": {},
   "outputs": [],
   "source": [
    "# Set up a more defaul XGBoost model to find a good number of estimators\n",
    "xgb1 = xgb.XGBClassifier(learning_rate=0.1, max_depth=5, min_child_weight=1, gamma=0, subsample=0.8, colample_bytree=0.8, seed=5)"
   ]
  },
  {
   "cell_type": "code",
   "execution_count": 74,
   "metadata": {},
   "outputs": [],
   "source": [
    "rs1 = RandomizedSearchCV(xgb1, param_dict, scoring='neg_log_loss', iid=False, n_jobs=4, cv=5)"
   ]
  },
  {
   "cell_type": "code",
   "execution_count": 75,
   "metadata": {},
   "outputs": [],
   "source": [
    "fit1 = rs1.fit(Xtr, ytr)"
   ]
  },
  {
   "cell_type": "code",
   "execution_count": 80,
   "metadata": {},
   "outputs": [
    {
     "data": {
      "text/plain": [
       "{'mean_fit_time': array([ 748.94021716,  432.39421487,  361.66570363,  502.19039764,\n",
       "         871.326194  ,  680.85013676,  954.31054497, 1065.84761558,\n",
       "        1031.69835625,  609.85430536]),\n",
       " 'std_fit_time': array([ 1.53669859,  1.39758455,  0.86942278,  1.67612653,  5.24362703,\n",
       "         7.32425636,  8.57949731,  7.2107703 ,  7.63831975, 36.6411307 ]),\n",
       " 'mean_score_time': array([0.11669192, 0.07850285, 0.06821609, 0.086553  , 0.13013721,\n",
       "        0.10993223, 0.14638386, 0.16403756, 0.15957394, 0.09385633]),\n",
       " 'std_score_time': array([0.00501333, 0.00240028, 0.00241271, 0.00460602, 0.00418022,\n",
       "        0.00649062, 0.00697525, 0.00319868, 0.006234  , 0.00658392]),\n",
       " 'param_n_estimators': masked_array(data=[275, 150, 125, 175, 325, 250, 375, 425, 400, 225],\n",
       "              mask=[False, False, False, False, False, False, False, False,\n",
       "                    False, False],\n",
       "        fill_value='?',\n",
       "             dtype=object),\n",
       " 'params': [{'n_estimators': 275},\n",
       "  {'n_estimators': 150},\n",
       "  {'n_estimators': 125},\n",
       "  {'n_estimators': 175},\n",
       "  {'n_estimators': 325},\n",
       "  {'n_estimators': 250},\n",
       "  {'n_estimators': 375},\n",
       "  {'n_estimators': 425},\n",
       "  {'n_estimators': 400},\n",
       "  {'n_estimators': 225}],\n",
       " 'split0_test_score': array([-1.61474636, -1.58052362, -1.5645652 , -1.58490095, -1.63128175,\n",
       "        -1.60860354, -1.64242681, -1.65596859, -1.64654773, -1.59794189]),\n",
       " 'split1_test_score': array([-1.60034361, -1.55646156, -1.54786074, -1.56770821, -1.61107892,\n",
       "        -1.59605467, -1.61673626, -1.62654874, -1.62230025, -1.5868369 ]),\n",
       " 'split2_test_score': array([-1.62367359, -1.56542221, -1.5478648 , -1.57883879, -1.63886128,\n",
       "        -1.61065485, -1.64965992, -1.66629817, -1.65962214, -1.59622028]),\n",
       " 'split3_test_score': array([-1.57515688, -1.53856793, -1.534816  , -1.54660839, -1.58871914,\n",
       "        -1.57136601, -1.59751548, -1.61324626, -1.60804057, -1.56243565]),\n",
       " 'split4_test_score': array([-1.63819324, -1.58111627, -1.56732362, -1.59910321, -1.65828572,\n",
       "        -1.63425549, -1.67239717, -1.68670691, -1.67898203, -1.62339814]),\n",
       " 'mean_test_score': array([-1.61042274, -1.56441832, -1.55248607, -1.57543191, -1.62564536,\n",
       "        -1.60418691, -1.63574713, -1.64975373, -1.64309854, -1.59336657]),\n",
       " 'std_test_score': array([0.02149767, 0.01594216, 0.01200866, 0.01761846, 0.02386441,\n",
       "        0.02053682, 0.02609399, 0.02664262, 0.02543298, 0.01964857]),\n",
       " 'rank_test_score': array([ 6,  2,  1,  3,  7,  5,  8, 10,  9,  4])}"
      ]
     },
     "execution_count": 80,
     "metadata": {},
     "output_type": "execute_result"
    }
   ],
   "source": [
    "fit1.cv_results_"
   ]
  },
  {
   "cell_type": "code",
   "execution_count": 93,
   "metadata": {},
   "outputs": [
    {
     "data": {
      "text/plain": [
       "{'n_estimators': 125}"
      ]
     },
     "execution_count": 93,
     "metadata": {},
     "output_type": "execute_result"
    }
   ],
   "source": [
    "fit1.best_params_"
   ]
  },
  {
   "cell_type": "markdown",
   "metadata": {},
   "source": [
    "best ns= 125, 150, 175, 225"
   ]
  },
  {
   "cell_type": "code",
   "execution_count": 94,
   "metadata": {},
   "outputs": [],
   "source": [
    "param_dict2 = {'n_estimators': list(range(75, 175, 25))}"
   ]
  },
  {
   "cell_type": "code",
   "execution_count": 95,
   "metadata": {},
   "outputs": [],
   "source": [
    "rs2 = RandomizedSearchCV(xgb1, param_dict2, scoring='neg_log_loss', iid=False, n_jobs=4, cv=5, n_iter=4)"
   ]
  },
  {
   "cell_type": "code",
   "execution_count": 96,
   "metadata": {},
   "outputs": [
    {
     "name": "stderr",
     "output_type": "stream",
     "text": [
      "D:\\Ana\\lib\\site-packages\\sklearn\\model_selection\\_search.py:266: UserWarning: The total space of parameters 4 is smaller than n_iter=10. Running 4 iterations. For exhaustive searches, use GridSearchCV.\n",
      "  % (grid_size, self.n_iter, grid_size), UserWarning)\n"
     ]
    }
   ],
   "source": [
    "fits2 = rs2.fit(Xtr, ytr)"
   ]
  },
  {
   "cell_type": "code",
   "execution_count": 97,
   "metadata": {},
   "outputs": [
    {
     "data": {
      "text/plain": [
       "{'n_estimators': 75}"
      ]
     },
     "execution_count": 97,
     "metadata": {},
     "output_type": "execute_result"
    }
   ],
   "source": [
    "fits2.best_params_"
   ]
  },
  {
   "cell_type": "code",
   "execution_count": null,
   "metadata": {},
   "outputs": [],
   "source": [
    "rs1 = RandomizedSearchCV(xgb1, param_dict, scoring='neg_log_loss', iid=False, n_jobs=4, cv=5)"
   ]
  },
  {
   "cell_type": "code",
   "execution_count": 106,
   "metadata": {},
   "outputs": [],
   "source": [
    "xgb2 = xgb.XGBClassifier(learning_rate=0.1, max_depth=5, n_estimators=75, min_child_weight=1, gamma=0, subsample=0.8, colsample_bytree=0.8, seed=5)"
   ]
  },
  {
   "cell_type": "code",
   "execution_count": 99,
   "metadata": {},
   "outputs": [],
   "source": [
    "fit2=xgb2.fit(Xtr, ytr)"
   ]
  },
  {
   "cell_type": "code",
   "execution_count": 100,
   "metadata": {},
   "outputs": [],
   "source": [
    "trpred=fit2.predict(Xtr)"
   ]
  },
  {
   "cell_type": "code",
   "execution_count": 101,
   "metadata": {},
   "outputs": [],
   "source": [
    "trscore= sum(trpred==ytr)/len(ytr)"
   ]
  },
  {
   "cell_type": "code",
   "execution_count": 102,
   "metadata": {},
   "outputs": [],
   "source": [
    "tepred= fit2.predict(Xte)"
   ]
  },
  {
   "cell_type": "code",
   "execution_count": 103,
   "metadata": {},
   "outputs": [],
   "source": [
    "tescore= sum(tepred==yte)/len(yte)"
   ]
  },
  {
   "cell_type": "code",
   "execution_count": 77,
   "metadata": {},
   "outputs": [
    {
     "data": {
      "text/plain": [
       "array([0.8, 0.9, 1. , 1.1, 1.2, 1.3, 1.4, 1.5, 1.6, 1.7, 1.8, 1.9])"
      ]
     },
     "execution_count": 77,
     "metadata": {},
     "output_type": "execute_result"
    }
   ],
   "source": [
    "np.arange(0.8, 2, 0.1)"
   ]
  },
  {
   "cell_type": "code",
   "execution_count": 90,
   "metadata": {},
   "outputs": [
    {
     "data": {
      "text/plain": [
       "0.9935567010309279"
      ]
     },
     "execution_count": 90,
     "metadata": {},
     "output_type": "execute_result"
    }
   ],
   "source": [
    "trscore"
   ]
  },
  {
   "cell_type": "code",
   "execution_count": 91,
   "metadata": {},
   "outputs": [
    {
     "data": {
      "text/plain": [
       "0.3779608650875386"
      ]
     },
     "execution_count": 91,
     "metadata": {},
     "output_type": "execute_result"
    }
   ],
   "source": [
    "tescore"
   ]
  },
  {
   "cell_type": "code",
   "execution_count": 104,
   "metadata": {},
   "outputs": [
    {
     "data": {
      "text/plain": [
       "0.9917525773195877"
      ]
     },
     "execution_count": 104,
     "metadata": {},
     "output_type": "execute_result"
    }
   ],
   "source": [
    "trscore"
   ]
  },
  {
   "cell_type": "code",
   "execution_count": 105,
   "metadata": {},
   "outputs": [
    {
     "data": {
      "text/plain": [
       "0.37590113285272914"
      ]
     },
     "execution_count": 105,
     "metadata": {},
     "output_type": "execute_result"
    }
   ],
   "source": [
    "tescore"
   ]
  },
  {
   "cell_type": "code",
   "execution_count": 110,
   "metadata": {},
   "outputs": [],
   "source": [
    "xgb3 = xgb2 = xgb.XGBClassifier(learning_rate=0.1, max_depth=5, min_child_weight=1, gamma=0, subsample=0.8, colsample_bytree=0.8, seed=5)"
   ]
  },
  {
   "cell_type": "code",
   "execution_count": null,
   "metadata": {},
   "outputs": [],
   "source": []
  },
  {
   "cell_type": "code",
   "execution_count": 109,
   "metadata": {},
   "outputs": [],
   "source": [
    "from sklearn.model_selection import GridSearchCV"
   ]
  },
  {
   "cell_type": "code",
   "execution_count": 111,
   "metadata": {},
   "outputs": [],
   "source": [
    "param_dict3 = {'n_estimators': list(range(55, 135, 10))}"
   ]
  },
  {
   "cell_type": "code",
   "execution_count": 112,
   "metadata": {},
   "outputs": [],
   "source": [
    "rs3 = RandomizedSearchCV(xgb3, param_dict3, scoring='neg_log_loss', iid=False, n_jobs=4, cv=5)"
   ]
  },
  {
   "cell_type": "code",
   "execution_count": 113,
   "metadata": {},
   "outputs": [
    {
     "name": "stderr",
     "output_type": "stream",
     "text": [
      "D:\\Ana\\lib\\site-packages\\sklearn\\model_selection\\_search.py:266: UserWarning: The total space of parameters 8 is smaller than n_iter=10. Running 8 iterations. For exhaustive searches, use GridSearchCV.\n",
      "  % (grid_size, self.n_iter, grid_size), UserWarning)\n"
     ]
    }
   ],
   "source": [
    "fit3 = rs3.fit(Xtr, ytr)"
   ]
  },
  {
   "cell_type": "code",
   "execution_count": 114,
   "metadata": {},
   "outputs": [
    {
     "data": {
      "text/plain": [
       "{'n_estimators': 65}"
      ]
     },
     "execution_count": 114,
     "metadata": {},
     "output_type": "execute_result"
    }
   ],
   "source": [
    "fit3.best_params_"
   ]
  },
  {
   "cell_type": "code",
   "execution_count": 115,
   "metadata": {},
   "outputs": [
    {
     "data": {
      "text/plain": [
       "{'mean_fit_time': array([121.99863048, 144.86478963, 166.57385936, 189.73457642,\n",
       "        211.49901438, 234.88368087, 257.69695911, 272.24265242]),\n",
       " 'std_fit_time': array([0.67707148, 0.32317766, 0.89765817, 1.10147313, 1.00809201,\n",
       "        0.56488377, 1.1587345 , 8.62380901]),\n",
       " 'mean_score_time': array([0.05266218, 0.05305266, 0.05275478, 0.05930924, 0.05964661,\n",
       "        0.06044631, 0.06522985, 0.0663269 ]),\n",
       " 'std_score_time': array([0.00553644, 0.00185536, 0.00249415, 0.00647259, 0.00537484,\n",
       "        0.00279675, 0.00299444, 0.00675687]),\n",
       " 'param_n_estimators': masked_array(data=[55, 65, 75, 85, 95, 105, 115, 125],\n",
       "              mask=[False, False, False, False, False, False, False, False],\n",
       "        fill_value='?',\n",
       "             dtype=object),\n",
       " 'params': [{'n_estimators': 55},\n",
       "  {'n_estimators': 65},\n",
       "  {'n_estimators': 75},\n",
       "  {'n_estimators': 85},\n",
       "  {'n_estimators': 95},\n",
       "  {'n_estimators': 105},\n",
       "  {'n_estimators': 115},\n",
       "  {'n_estimators': 125}],\n",
       " 'split0_test_score': array([-1.54994103, -1.54602847, -1.5462583 , -1.5505394 , -1.55404434,\n",
       "        -1.55618564, -1.56237211, -1.5637379 ]),\n",
       " 'split1_test_score': array([-1.54286535, -1.54293091, -1.54358392, -1.54396539, -1.54232043,\n",
       "        -1.54048679, -1.54595935, -1.54383141]),\n",
       " 'split2_test_score': array([-1.53825449, -1.5308991 , -1.53386317, -1.53309335, -1.53022657,\n",
       "        -1.53187453, -1.53473869, -1.53440842]),\n",
       " 'split3_test_score': array([-1.53798869, -1.53059352, -1.52883373, -1.52742221, -1.5311008 ,\n",
       "        -1.53439366, -1.53645531, -1.53927612]),\n",
       " 'split4_test_score': array([-1.55087136, -1.54685408, -1.54987425, -1.55768942, -1.55874228,\n",
       "        -1.56370302, -1.56845927, -1.57502428]),\n",
       " 'mean_test_score': array([-1.54398418, -1.53946122, -1.54048267, -1.54254196, -1.54328688,\n",
       "        -1.54532873, -1.54959695, -1.55125563]),\n",
       " 'std_test_score': array([0.00553072, 0.00723558, 0.0078828 , 0.01107532, 0.0116155 ,\n",
       "        0.01248617, 0.01360658, 0.01551265]),\n",
       " 'rank_test_score': array([5, 1, 2, 3, 4, 6, 7, 8])}"
      ]
     },
     "execution_count": 115,
     "metadata": {},
     "output_type": "execute_result"
    }
   ],
   "source": [
    "fit3.cv_results_"
   ]
  },
  {
   "cell_type": "code",
   "execution_count": 116,
   "metadata": {},
   "outputs": [],
   "source": [
    "xgb4 = xgb.XGBClassifier(learning_rate=0.1, max_depth=5, n_estimators=65, min_child_weight=1, gamma=0, subsample=0.8, colsample_bytree=0.8, seed=5)"
   ]
  },
  {
   "cell_type": "code",
   "execution_count": 117,
   "metadata": {},
   "outputs": [],
   "source": [
    "fit4=xgb4.fit(Xtr, ytr)"
   ]
  },
  {
   "cell_type": "code",
   "execution_count": 118,
   "metadata": {},
   "outputs": [],
   "source": [
    "trpred=fit4.predict(Xtr)\n",
    "\n",
    "trscore= sum(trpred==ytr)/len(ytr)\n",
    "\n",
    "tepred= fit4.predict(Xte)\n",
    "\n",
    "tescore= sum(tepred==yte)/len(yte)"
   ]
  },
  {
   "cell_type": "code",
   "execution_count": 119,
   "metadata": {},
   "outputs": [
    {
     "data": {
      "text/plain": [
       "0.9863402061855671"
      ]
     },
     "execution_count": 119,
     "metadata": {},
     "output_type": "execute_result"
    }
   ],
   "source": [
    "trscore"
   ]
  },
  {
   "cell_type": "code",
   "execution_count": 120,
   "metadata": {},
   "outputs": [
    {
     "data": {
      "text/plain": [
       "0.3583934088568486"
      ]
     },
     "execution_count": 120,
     "metadata": {},
     "output_type": "execute_result"
    }
   ],
   "source": [
    "tescore"
   ]
  },
  {
   "cell_type": "code",
   "execution_count": null,
   "metadata": {},
   "outputs": [],
   "source": []
  },
  {
   "cell_type": "code",
   "execution_count": 122,
   "metadata": {},
   "outputs": [],
   "source": [
    "xgb5 = xgb.XGBClassifier(learning_rate=0.1, max_depth=5, n_estimators=125, min_child_weight=1, gamma=0, subsample=0.8, colsample_bytree=0.8, seed=5)"
   ]
  },
  {
   "cell_type": "code",
   "execution_count": 123,
   "metadata": {},
   "outputs": [],
   "source": [
    "# set up a parameter dicitonary for tuning model\n",
    "param_dict4 = {'max_depth':[3, 4, 5, 6, 7, 8, 9, 10],'min_child_weight':np.arange(1, 7, 1)}"
   ]
  },
  {
   "cell_type": "code",
   "execution_count": 124,
   "metadata": {},
   "outputs": [],
   "source": [
    "rs4 = RandomizedSearchCV(xgb5, param_dict4, scoring='neg_log_loss', iid=False, n_jobs=4, cv=5)"
   ]
  },
  {
   "cell_type": "code",
   "execution_count": 125,
   "metadata": {},
   "outputs": [],
   "source": [
    "fit4 = rs4.fit(Xtr, ytr)"
   ]
  },
  {
   "cell_type": "code",
   "execution_count": 126,
   "metadata": {},
   "outputs": [
    {
     "data": {
      "text/plain": [
       "{'min_child_weight': 4, 'max_depth': 4}"
      ]
     },
     "execution_count": 126,
     "metadata": {},
     "output_type": "execute_result"
    }
   ],
   "source": [
    "fit4.best_params_"
   ]
  },
  {
   "cell_type": "code",
   "execution_count": 128,
   "metadata": {},
   "outputs": [
    {
     "data": {
      "text/plain": [
       "{'mean_fit_time': array([366.54279132, 218.25790801, 439.90834694, 266.98155465,\n",
       "        271.30160236, 395.57519746, 215.60426865, 364.11919918,\n",
       "        265.26243601, 148.14073105]),\n",
       " 'std_fit_time': array([2.17981406, 2.30470597, 2.37287502, 2.46382441, 5.34173888,\n",
       "        1.7790881 , 1.42493261, 2.12110706, 1.43142044, 5.45489154]),\n",
       " 'mean_score_time': array([0.0815835 , 0.06482682, 0.094947  , 0.06841712, 0.06883249,\n",
       "        0.08457432, 0.05844417, 0.08337712, 0.06622324, 0.04906888]),\n",
       " 'std_score_time': array([0.00193175, 0.00356804, 0.01316168, 0.00448696, 0.00435638,\n",
       "        0.00222098, 0.0041647 , 0.00448725, 0.00337347, 0.00429635]),\n",
       " 'param_min_child_weight': masked_array(data=[3, 4, 1, 6, 4, 2, 1, 2, 2, 6],\n",
       "              mask=[False, False, False, False, False, False, False, False,\n",
       "                    False, False],\n",
       "        fill_value='?',\n",
       "             dtype=object),\n",
       " 'param_max_depth': masked_array(data=[8, 4, 10, 5, 5, 9, 4, 8, 5, 3],\n",
       "              mask=[False, False, False, False, False, False, False, False,\n",
       "                    False, False],\n",
       "        fill_value='?',\n",
       "             dtype=object),\n",
       " 'params': [{'min_child_weight': 3, 'max_depth': 8},\n",
       "  {'min_child_weight': 4, 'max_depth': 4},\n",
       "  {'min_child_weight': 1, 'max_depth': 10},\n",
       "  {'min_child_weight': 6, 'max_depth': 5},\n",
       "  {'min_child_weight': 4, 'max_depth': 5},\n",
       "  {'min_child_weight': 2, 'max_depth': 9},\n",
       "  {'min_child_weight': 1, 'max_depth': 4},\n",
       "  {'min_child_weight': 2, 'max_depth': 8},\n",
       "  {'min_child_weight': 2, 'max_depth': 5},\n",
       "  {'min_child_weight': 6, 'max_depth': 3}],\n",
       " 'split0_test_score': array([-1.55809618, -1.52789644, -1.57310823, -1.54638553, -1.53478797,\n",
       "        -1.54465925, -1.53057234, -1.54321148, -1.55835211, -1.52797513]),\n",
       " 'split1_test_score': array([-1.54724579, -1.53183298, -1.5663427 , -1.53256485, -1.53860956,\n",
       "        -1.55643999, -1.5340516 , -1.56178658, -1.54435697, -1.53617058]),\n",
       " 'split2_test_score': array([-1.56169407, -1.53063511, -1.56303496, -1.52624797, -1.53245098,\n",
       "        -1.57451279, -1.52926898, -1.57365008, -1.5329382 , -1.54365351]),\n",
       " 'split3_test_score': array([-1.55914277, -1.51535201, -1.54543318, -1.50981282, -1.53653829,\n",
       "        -1.54633229, -1.52233135, -1.53726182, -1.54966588, -1.53466027]),\n",
       " 'split4_test_score': array([-1.58203241, -1.54796597, -1.60316871, -1.55065219, -1.54783299,\n",
       "        -1.59636673, -1.56264621, -1.60499546, -1.55047265, -1.53923114]),\n",
       " 'mean_test_score': array([-1.56164224, -1.5307365 , -1.57021756, -1.53313267, -1.53804396,\n",
       "        -1.56366221, -1.5357741 , -1.56418108, -1.54715716, -1.53633813]),\n",
       " 'std_test_score': array([0.01132997, 0.01041936, 0.01884146, 0.0146568 , 0.00529707,\n",
       "        0.01949831, 0.01396538, 0.02418917, 0.00839801, 0.00518975]),\n",
       " 'rank_test_score': array([ 7,  1, 10,  2,  5,  8,  3,  9,  6,  4])}"
      ]
     },
     "execution_count": 128,
     "metadata": {},
     "output_type": "execute_result"
    }
   ],
   "source": [
    "fit4.cv_results_"
   ]
  },
  {
   "cell_type": "code",
   "execution_count": 129,
   "metadata": {},
   "outputs": [],
   "source": [
    "trpred4 = fit4.predict(Xtr)"
   ]
  },
  {
   "cell_type": "code",
   "execution_count": 130,
   "metadata": {},
   "outputs": [],
   "source": [
    "tepred4 = fit4.predict(Xte)"
   ]
  },
  {
   "cell_type": "code",
   "execution_count": 131,
   "metadata": {},
   "outputs": [
    {
     "data": {
      "text/plain": [
       "0.9902061855670103"
      ]
     },
     "execution_count": 131,
     "metadata": {},
     "output_type": "execute_result"
    }
   ],
   "source": [
    "trscore4 = sum(trpred4==ytr)/len(ytr)\n",
    "trscore4"
   ]
  },
  {
   "cell_type": "code",
   "execution_count": 132,
   "metadata": {},
   "outputs": [
    {
     "data": {
      "text/plain": [
       "0.3748712667353244"
      ]
     },
     "execution_count": 132,
     "metadata": {},
     "output_type": "execute_result"
    }
   ],
   "source": [
    "tescore4 = sum(tepred4==yte)/len(yte)\n",
    "tescore4"
   ]
  },
  {
   "cell_type": "code",
   "execution_count": 136,
   "metadata": {},
   "outputs": [],
   "source": [
    "xgb5 = xgb.XGBClassifier(learning_rate=0.1, max_depth=4, n_estimators=125, min_child_weight=4, gamma=0, subsample=0.8, colsample_bytree=0.8, seed=5)"
   ]
  },
  {
   "cell_type": "code",
   "execution_count": 139,
   "metadata": {},
   "outputs": [],
   "source": [
    "param_dict5 = {'gamma':[0, 0.1, 0.2, 0.3, 0.4]}"
   ]
  },
  {
   "cell_type": "code",
   "execution_count": 140,
   "metadata": {},
   "outputs": [],
   "source": [
    "rs5 = RandomizedSearchCV(xgb5, param_dict5, scoring='neg_log_loss', iid=False, n_jobs=4, cv=5)"
   ]
  },
  {
   "cell_type": "code",
   "execution_count": 141,
   "metadata": {},
   "outputs": [
    {
     "name": "stderr",
     "output_type": "stream",
     "text": [
      "D:\\Ana\\lib\\site-packages\\sklearn\\model_selection\\_search.py:266: UserWarning: The total space of parameters 5 is smaller than n_iter=10. Running 5 iterations. For exhaustive searches, use GridSearchCV.\n",
      "  % (grid_size, self.n_iter, grid_size), UserWarning)\n"
     ]
    }
   ],
   "source": [
    "fit5 = rs5.fit(Xtr, ytr)"
   ]
  },
  {
   "cell_type": "code",
   "execution_count": 142,
   "metadata": {},
   "outputs": [
    {
     "data": {
      "text/plain": [
       "{'mean_fit_time': array([214.25648422, 211.19923444, 209.2823494 , 210.93567219,\n",
       "        206.09862542]),\n",
       " 'std_fit_time': array([ 0.29576061,  1.85922405,  1.30962667,  2.22045137, 15.80253163]),\n",
       " 'mean_score_time': array([0.06383038, 0.06023965, 0.05954309, 0.06003985, 0.05874114]),\n",
       " 'std_score_time': array([0.0030254 , 0.00386783, 0.00405621, 0.00298512, 0.00534683]),\n",
       " 'param_gamma': masked_array(data=[0, 0.1, 0.2, 0.3, 0.4],\n",
       "              mask=[False, False, False, False, False],\n",
       "        fill_value='?',\n",
       "             dtype=object),\n",
       " 'params': [{'gamma': 0},\n",
       "  {'gamma': 0.1},\n",
       "  {'gamma': 0.2},\n",
       "  {'gamma': 0.3},\n",
       "  {'gamma': 0.4}],\n",
       " 'split0_test_score': array([-1.52789644, -1.52371657, -1.52845068, -1.5349475 , -1.53219371]),\n",
       " 'split1_test_score': array([-1.53183298, -1.5440006 , -1.5464117 , -1.54152465, -1.53016681]),\n",
       " 'split2_test_score': array([-1.53063511, -1.52380701, -1.52416157, -1.51664705, -1.5329402 ]),\n",
       " 'split3_test_score': array([-1.51535201, -1.52215889, -1.51583102, -1.5199585 , -1.53047549]),\n",
       " 'split4_test_score': array([-1.54796597, -1.54771711, -1.53865323, -1.54054493, -1.55061879]),\n",
       " 'mean_test_score': array([-1.5307365 , -1.53228004, -1.53070164, -1.53072453, -1.535279  ]),\n",
       " 'std_test_score': array([0.01041936, 0.01116457, 0.01076112, 0.0104403 , 0.00773959]),\n",
       " 'rank_test_score': array([3, 4, 1, 2, 5])}"
      ]
     },
     "execution_count": 142,
     "metadata": {},
     "output_type": "execute_result"
    }
   ],
   "source": [
    "fit5.cv_results_"
   ]
  },
  {
   "cell_type": "code",
   "execution_count": 143,
   "metadata": {},
   "outputs": [
    {
     "data": {
      "text/plain": [
       "0.36560247167868176"
      ]
     },
     "execution_count": 143,
     "metadata": {},
     "output_type": "execute_result"
    }
   ],
   "source": [
    "trpred5 = fit5.predict(Xtr)\n",
    "\n",
    "tepred5 = fit5.predict(Xte)\n",
    "\n",
    "trscore5 = sum(trpred5==ytr)/len(ytr)\n",
    "trscore5\n",
    "\n",
    "tescore5 = sum(tepred5==yte)/len(yte)\n",
    "tescore5"
   ]
  },
  {
   "cell_type": "code",
   "execution_count": 146,
   "metadata": {},
   "outputs": [
    {
     "data": {
      "text/plain": [
       "0.990979381443299"
      ]
     },
     "execution_count": 146,
     "metadata": {},
     "output_type": "execute_result"
    }
   ],
   "source": [
    "trscore5"
   ]
  },
  {
   "cell_type": "code",
   "execution_count": 147,
   "metadata": {},
   "outputs": [],
   "source": [
    "XGB_fullsearch = xgb.XGBClassifier(random_state=5)"
   ]
  },
  {
   "cell_type": "code",
   "execution_count": 150,
   "metadata": {},
   "outputs": [],
   "source": [
    "full_cv_params = {'max_depth':[3, 4, 5, 6], 'min_child_weight':np.arange(1, 7, 1), 'n_estimators': list(range(75, 175, 25)),\n",
    "                  'subsample':[i/100.0 for i in range(60,95,5)], 'colsample_bytree':[i/100.0 for i in range(60,95,5)],\n",
    "                  'reg_alpha':[1e-5, 1e-2, 0.1, 1, 100]}"
   ]
  },
  {
   "cell_type": "code",
   "execution_count": 152,
   "metadata": {},
   "outputs": [],
   "source": [
    "rs_f = RandomizedSearchCV(XGB_fullsearch, full_cv_params, scoring='neg_log_loss', iid=False, n_jobs=4, cv=5, n_iter=25)"
   ]
  },
  {
   "cell_type": "code",
   "execution_count": 153,
   "metadata": {},
   "outputs": [],
   "source": [
    "fit_f = rs_f.fit(Xtr, ytr)"
   ]
  },
  {
   "cell_type": "code",
   "execution_count": 154,
   "metadata": {},
   "outputs": [],
   "source": [
    "rs_facc = RandomizedSearchCV(XGB_fullsearch, full_cv_params, scoring='accuracy', iid=False, n_jobs=4, cv=5, n_iter=25)"
   ]
  },
  {
   "cell_type": "code",
   "execution_count": 156,
   "metadata": {},
   "outputs": [],
   "source": [
    "fit_facc = rs_facc.fit(Xtr, ytr)"
   ]
  },
  {
   "cell_type": "code",
   "execution_count": 162,
   "metadata": {},
   "outputs": [],
   "source": [
    "telog_pred = fit_f.predict(Xte)"
   ]
  },
  {
   "cell_type": "code",
   "execution_count": 159,
   "metadata": {},
   "outputs": [],
   "source": [
    "trlog_pred = fit_f.predict(Xtr)"
   ]
  },
  {
   "cell_type": "code",
   "execution_count": 160,
   "metadata": {},
   "outputs": [
    {
     "data": {
      "text/plain": [
       "0.9530927835051546"
      ]
     },
     "execution_count": 160,
     "metadata": {},
     "output_type": "execute_result"
    }
   ],
   "source": [
    "#log-loss optimized training accuracy\n",
    "log_tr = sum(trlog_pred==ytr)/len(ytr)\n",
    "log_tr"
   ]
  },
  {
   "cell_type": "code",
   "execution_count": 163,
   "metadata": {},
   "outputs": [
    {
     "data": {
      "text/plain": [
       "0.37384140061791965"
      ]
     },
     "execution_count": 163,
     "metadata": {},
     "output_type": "execute_result"
    }
   ],
   "source": [
    "#log-loss optimized testing accuracy\n",
    "log_te = sum(telog_pred==yte)/len(yte)\n",
    "log_te"
   ]
  },
  {
   "cell_type": "code",
   "execution_count": 164,
   "metadata": {},
   "outputs": [],
   "source": [
    "# Accuracy optimized training and testing accuracy\n",
    "tr_acc_pred = fit_facc.predict(Xtr)"
   ]
  },
  {
   "cell_type": "code",
   "execution_count": 165,
   "metadata": {},
   "outputs": [],
   "source": [
    "te_acc_pred = fit_facc.predict(Xte)"
   ]
  },
  {
   "cell_type": "code",
   "execution_count": 168,
   "metadata": {},
   "outputs": [
    {
     "data": {
      "text/plain": [
       "0.9935567010309279"
      ]
     },
     "execution_count": 168,
     "metadata": {},
     "output_type": "execute_result"
    }
   ],
   "source": [
    "acc_tr = sum(tr_acc_pred==ytr)/len(ytr)\n",
    "acc_tr"
   ]
  },
  {
   "cell_type": "code",
   "execution_count": 170,
   "metadata": {},
   "outputs": [
    {
     "data": {
      "text/plain": [
       "0.35633367662203913"
      ]
     },
     "execution_count": 170,
     "metadata": {},
     "output_type": "execute_result"
    }
   ],
   "source": [
    "acc_te = sum(te_acc_pred==yte)/len(yte)\n",
    "acc_te"
   ]
  },
  {
   "cell_type": "code",
   "execution_count": 171,
   "metadata": {},
   "outputs": [
    {
     "data": {
      "text/plain": [
       "{'subsample': 0.7,\n",
       " 'reg_alpha': 0.01,\n",
       " 'n_estimators': 150,\n",
       " 'min_child_weight': 6,\n",
       " 'max_depth': 3,\n",
       " 'colsample_bytree': 0.7}"
      ]
     },
     "execution_count": 171,
     "metadata": {},
     "output_type": "execute_result"
    }
   ],
   "source": [
    "#log-loss optimized model\n",
    "fit_f.best_params_"
   ]
  },
  {
   "cell_type": "code",
   "execution_count": 172,
   "metadata": {},
   "outputs": [
    {
     "data": {
      "text/plain": [
       "{'subsample': 0.85,\n",
       " 'reg_alpha': 0.01,\n",
       " 'n_estimators': 75,\n",
       " 'min_child_weight': 4,\n",
       " 'max_depth': 6,\n",
       " 'colsample_bytree': 0.6}"
      ]
     },
     "execution_count": 172,
     "metadata": {},
     "output_type": "execute_result"
    }
   ],
   "source": [
    "#accuracy optimized model\n",
    "fit_facc.best_params_"
   ]
  },
  {
   "cell_type": "code",
   "execution_count": 173,
   "metadata": {},
   "outputs": [
    {
     "data": {
      "text/plain": [
       "{'mean_fit_time': array([ 59.47685313, 242.11860657,  70.76237664, 201.61236401,\n",
       "        302.8929585 , 186.88361058, 269.27182899, 162.17489252,\n",
       "         48.87132378, 263.87487187, 137.66614985, 315.19118209,\n",
       "         46.0424387 ,  81.71282239, 136.55811424, 226.07529631,\n",
       "        128.75215726, 198.38194728, 166.02693696,  91.52870169,\n",
       "         74.19412599, 260.0753521 , 284.95344043, 354.84692817,\n",
       "        275.22540736]),\n",
       " 'std_fit_time': array([1.13513313, 1.50623903, 0.88214862, 2.98519543, 2.47263049,\n",
       "        1.89723779, 1.59123692, 1.29107098, 0.53638016, 1.47058434,\n",
       "        0.82688334, 4.95723152, 0.4021793 , 0.63260568, 0.82132109,\n",
       "        2.60953996, 2.35813072, 0.4797311 , 0.66240886, 0.68705511,\n",
       "        1.11654148, 0.84512386, 1.76194601, 2.02605927, 6.55192666]),\n",
       " 'mean_score_time': array([0.03909554, 0.06462779, 0.03610363, 0.06324286, 0.06878362,\n",
       "        0.05465412, 0.06522565, 0.06053987, 0.03919415, 0.07060862,\n",
       "        0.05126424, 0.07240696, 0.03570499, 0.04507933, 0.05604944,\n",
       "        0.0676187 , 0.05016718, 0.05777988, 0.06243272, 0.04866996,\n",
       "        0.04128914, 0.06841774, 0.07021356, 0.07320585, 0.07242899]),\n",
       " 'std_score_time': array([0.00369945, 0.0077352 , 0.0035904 , 0.00300822, 0.00445182,\n",
       "        0.00341937, 0.00325286, 0.00217394, 0.00350628, 0.00659188,\n",
       "        0.00487066, 0.0043062 , 0.00213007, 0.00212969, 0.00247558,\n",
       "        0.00263084, 0.0025954 , 0.00256087, 0.00461814, 0.00305076,\n",
       "        0.00135316, 0.00348981, 0.00337308, 0.00299621, 0.00428703]),\n",
       " 'param_subsample': masked_array(data=[0.75, 0.85, 0.9, 0.85, 0.85, 0.9, 0.8, 0.7, 0.65, 0.85,\n",
       "                    0.65, 0.6, 0.75, 0.8, 0.7, 0.9, 0.65, 0.9, 0.85, 0.6,\n",
       "                    0.9, 0.7, 0.85, 0.75, 0.75],\n",
       "              mask=[False, False, False, False, False, False, False, False,\n",
       "                    False, False, False, False, False, False, False, False,\n",
       "                    False, False, False, False, False, False, False, False,\n",
       "                    False],\n",
       "        fill_value='?',\n",
       "             dtype=object),\n",
       " 'param_reg_alpha': masked_array(data=[100, 0.01, 100, 0.1, 0.01, 1, 1e-05, 0.01, 100, 1, 1,\n",
       "                    0.01, 100, 1e-05, 1, 0.01, 0.01, 0.01, 0.1, 1, 100, 1,\n",
       "                    1, 0.1, 1e-05],\n",
       "              mask=[False, False, False, False, False, False, False, False,\n",
       "                    False, False, False, False, False, False, False, False,\n",
       "                    False, False, False, False, False, False, False, False,\n",
       "                    False],\n",
       "        fill_value='?',\n",
       "             dtype=object),\n",
       " 'param_n_estimators': masked_array(data=[75, 100, 75, 100, 150, 150, 125, 150, 100, 150, 75,\n",
       "                    125, 75, 75, 150, 125, 75, 75, 125, 100, 125, 125, 125,\n",
       "                    150, 150],\n",
       "              mask=[False, False, False, False, False, False, False, False,\n",
       "                    False, False, False, False, False, False, False, False,\n",
       "                    False, False, False, False, False, False, False, False,\n",
       "                    False],\n",
       "        fill_value='?',\n",
       "             dtype=object),\n",
       " 'param_min_child_weight': masked_array(data=[1, 5, 3, 2, 1, 1, 2, 6, 6, 4, 5, 1, 4, 1, 5, 5, 3, 4,\n",
       "                    6, 3, 2, 1, 5, 3, 5],\n",
       "              mask=[False, False, False, False, False, False, False, False,\n",
       "                    False, False, False, False, False, False, False, False,\n",
       "                    False, False, False, False, False, False, False, False,\n",
       "                    False],\n",
       "        fill_value='?',\n",
       "             dtype=object),\n",
       " 'param_max_depth': masked_array(data=[4, 5, 6, 6, 4, 3, 5, 3, 5, 4, 4, 6, 6, 3, 3, 6, 5, 6,\n",
       "                    4, 3, 3, 5, 6, 5, 6],\n",
       "              mask=[False, False, False, False, False, False, False, False,\n",
       "                    False, False, False, False, False, False, False, False,\n",
       "                    False, False, False, False, False, False, False, False,\n",
       "                    False],\n",
       "        fill_value='?',\n",
       "             dtype=object),\n",
       " 'param_colsample_bytree': masked_array(data=[0.9, 0.9, 0.75, 0.6, 0.9, 0.7, 0.8, 0.7, 0.6, 0.75,\n",
       "                    0.9, 0.9, 0.6, 0.7, 0.6, 0.6, 0.7, 0.8, 0.6, 0.6, 0.7,\n",
       "                    0.75, 0.7, 0.9, 0.65],\n",
       "              mask=[False, False, False, False, False, False, False, False,\n",
       "                    False, False, False, False, False, False, False, False,\n",
       "                    False, False, False, False, False, False, False, False,\n",
       "                    False],\n",
       "        fill_value='?',\n",
       "             dtype=object),\n",
       " 'params': [{'subsample': 0.75,\n",
       "   'reg_alpha': 100,\n",
       "   'n_estimators': 75,\n",
       "   'min_child_weight': 1,\n",
       "   'max_depth': 4,\n",
       "   'colsample_bytree': 0.9},\n",
       "  {'subsample': 0.85,\n",
       "   'reg_alpha': 0.01,\n",
       "   'n_estimators': 100,\n",
       "   'min_child_weight': 5,\n",
       "   'max_depth': 5,\n",
       "   'colsample_bytree': 0.9},\n",
       "  {'subsample': 0.9,\n",
       "   'reg_alpha': 100,\n",
       "   'n_estimators': 75,\n",
       "   'min_child_weight': 3,\n",
       "   'max_depth': 6,\n",
       "   'colsample_bytree': 0.75},\n",
       "  {'subsample': 0.85,\n",
       "   'reg_alpha': 0.1,\n",
       "   'n_estimators': 100,\n",
       "   'min_child_weight': 2,\n",
       "   'max_depth': 6,\n",
       "   'colsample_bytree': 0.6},\n",
       "  {'subsample': 0.85,\n",
       "   'reg_alpha': 0.01,\n",
       "   'n_estimators': 150,\n",
       "   'min_child_weight': 1,\n",
       "   'max_depth': 4,\n",
       "   'colsample_bytree': 0.9},\n",
       "  {'subsample': 0.9,\n",
       "   'reg_alpha': 1,\n",
       "   'n_estimators': 150,\n",
       "   'min_child_weight': 1,\n",
       "   'max_depth': 3,\n",
       "   'colsample_bytree': 0.7},\n",
       "  {'subsample': 0.8,\n",
       "   'reg_alpha': 1e-05,\n",
       "   'n_estimators': 125,\n",
       "   'min_child_weight': 2,\n",
       "   'max_depth': 5,\n",
       "   'colsample_bytree': 0.8},\n",
       "  {'subsample': 0.7,\n",
       "   'reg_alpha': 0.01,\n",
       "   'n_estimators': 150,\n",
       "   'min_child_weight': 6,\n",
       "   'max_depth': 3,\n",
       "   'colsample_bytree': 0.7},\n",
       "  {'subsample': 0.65,\n",
       "   'reg_alpha': 100,\n",
       "   'n_estimators': 100,\n",
       "   'min_child_weight': 6,\n",
       "   'max_depth': 5,\n",
       "   'colsample_bytree': 0.6},\n",
       "  {'subsample': 0.85,\n",
       "   'reg_alpha': 1,\n",
       "   'n_estimators': 150,\n",
       "   'min_child_weight': 4,\n",
       "   'max_depth': 4,\n",
       "   'colsample_bytree': 0.75},\n",
       "  {'subsample': 0.65,\n",
       "   'reg_alpha': 1,\n",
       "   'n_estimators': 75,\n",
       "   'min_child_weight': 5,\n",
       "   'max_depth': 4,\n",
       "   'colsample_bytree': 0.9},\n",
       "  {'subsample': 0.6,\n",
       "   'reg_alpha': 0.01,\n",
       "   'n_estimators': 125,\n",
       "   'min_child_weight': 1,\n",
       "   'max_depth': 6,\n",
       "   'colsample_bytree': 0.9},\n",
       "  {'subsample': 0.75,\n",
       "   'reg_alpha': 100,\n",
       "   'n_estimators': 75,\n",
       "   'min_child_weight': 4,\n",
       "   'max_depth': 6,\n",
       "   'colsample_bytree': 0.6},\n",
       "  {'subsample': 0.8,\n",
       "   'reg_alpha': 1e-05,\n",
       "   'n_estimators': 75,\n",
       "   'min_child_weight': 1,\n",
       "   'max_depth': 3,\n",
       "   'colsample_bytree': 0.7},\n",
       "  {'subsample': 0.7,\n",
       "   'reg_alpha': 1,\n",
       "   'n_estimators': 150,\n",
       "   'min_child_weight': 5,\n",
       "   'max_depth': 3,\n",
       "   'colsample_bytree': 0.6},\n",
       "  {'subsample': 0.9,\n",
       "   'reg_alpha': 0.01,\n",
       "   'n_estimators': 125,\n",
       "   'min_child_weight': 5,\n",
       "   'max_depth': 6,\n",
       "   'colsample_bytree': 0.6},\n",
       "  {'subsample': 0.65,\n",
       "   'reg_alpha': 0.01,\n",
       "   'n_estimators': 75,\n",
       "   'min_child_weight': 3,\n",
       "   'max_depth': 5,\n",
       "   'colsample_bytree': 0.7},\n",
       "  {'subsample': 0.9,\n",
       "   'reg_alpha': 0.01,\n",
       "   'n_estimators': 75,\n",
       "   'min_child_weight': 4,\n",
       "   'max_depth': 6,\n",
       "   'colsample_bytree': 0.8},\n",
       "  {'subsample': 0.85,\n",
       "   'reg_alpha': 0.1,\n",
       "   'n_estimators': 125,\n",
       "   'min_child_weight': 6,\n",
       "   'max_depth': 4,\n",
       "   'colsample_bytree': 0.6},\n",
       "  {'subsample': 0.6,\n",
       "   'reg_alpha': 1,\n",
       "   'n_estimators': 100,\n",
       "   'min_child_weight': 3,\n",
       "   'max_depth': 3,\n",
       "   'colsample_bytree': 0.6},\n",
       "  {'subsample': 0.9,\n",
       "   'reg_alpha': 100,\n",
       "   'n_estimators': 125,\n",
       "   'min_child_weight': 2,\n",
       "   'max_depth': 3,\n",
       "   'colsample_bytree': 0.7},\n",
       "  {'subsample': 0.7,\n",
       "   'reg_alpha': 1,\n",
       "   'n_estimators': 125,\n",
       "   'min_child_weight': 1,\n",
       "   'max_depth': 5,\n",
       "   'colsample_bytree': 0.75},\n",
       "  {'subsample': 0.85,\n",
       "   'reg_alpha': 1,\n",
       "   'n_estimators': 125,\n",
       "   'min_child_weight': 5,\n",
       "   'max_depth': 6,\n",
       "   'colsample_bytree': 0.7},\n",
       "  {'subsample': 0.75,\n",
       "   'reg_alpha': 0.1,\n",
       "   'n_estimators': 150,\n",
       "   'min_child_weight': 3,\n",
       "   'max_depth': 5,\n",
       "   'colsample_bytree': 0.9},\n",
       "  {'subsample': 0.75,\n",
       "   'reg_alpha': 1e-05,\n",
       "   'n_estimators': 150,\n",
       "   'min_child_weight': 5,\n",
       "   'max_depth': 6,\n",
       "   'colsample_bytree': 0.65}],\n",
       " 'split0_test_score': array([-1.73470192, -1.55158851, -1.71813652, -1.56106741, -1.54112681,\n",
       "        -1.53799055, -1.55835184, -1.54467852, -1.74962542, -1.55186974,\n",
       "        -1.55052128, -1.57743201, -1.73731698, -1.56305145, -1.53913016,\n",
       "        -1.55294889, -1.53962612, -1.52027332, -1.53225223, -1.53476092,\n",
       "        -1.7182601 , -1.5210895 , -1.5627409 , -1.55275804, -1.560466  ]),\n",
       " 'split1_test_score': array([-1.73484405, -1.54865916, -1.71675595, -1.53882904, -1.53816165,\n",
       "        -1.53826013, -1.54284481, -1.52805213, -1.74799717, -1.53595638,\n",
       "        -1.54733888, -1.55890195, -1.73635349, -1.56294316, -1.53269873,\n",
       "        -1.54087187, -1.55445873, -1.55132755, -1.54413535, -1.53760267,\n",
       "        -1.71753897, -1.54702132, -1.51942999, -1.53758878, -1.55125361]),\n",
       " 'split2_test_score': array([-1.73301463, -1.53112361, -1.71588338, -1.53421603, -1.52881996,\n",
       "        -1.54244381, -1.53271295, -1.52535536, -1.74847614, -1.51912229,\n",
       "        -1.55759868, -1.5612298 , -1.73410789, -1.56243812, -1.52521358,\n",
       "        -1.5245189 , -1.54627678, -1.53398669, -1.52911919, -1.5622375 ,\n",
       "        -1.71696705, -1.51911674, -1.54795364, -1.55536549, -1.54702392]),\n",
       " 'split3_test_score': array([-1.73667554, -1.53167059, -1.72304463, -1.52065253, -1.54061262,\n",
       "        -1.53123615, -1.54313344, -1.52046781, -1.75002497, -1.52097322,\n",
       "        -1.5434827 , -1.56194648, -1.73966812, -1.54853813, -1.51815399,\n",
       "        -1.54132536, -1.5341327 , -1.54383899, -1.51341574, -1.53625446,\n",
       "        -1.72265543, -1.54579971, -1.52859115, -1.55033778, -1.51961815]),\n",
       " 'split4_test_score': array([-1.7327569 , -1.55492857, -1.71449494, -1.56023678, -1.56934225,\n",
       "        -1.5528525 , -1.55197498, -1.53215488, -1.74873265, -1.55299375,\n",
       "        -1.53724696, -1.60216911, -1.73566835, -1.55281439, -1.5410216 ,\n",
       "        -1.5831234 , -1.5739011 , -1.53784296, -1.54103537, -1.55118379,\n",
       "        -1.71412077, -1.55488677, -1.55512899, -1.58814473, -1.5656605 ]),\n",
       " 'mean_test_score': array([-1.73439861, -1.54359409, -1.71766308, -1.54300036, -1.54361266,\n",
       "        -1.54055663, -1.5458036 , -1.53014174, -1.74897127, -1.53618308,\n",
       "        -1.5472377 , -1.57233587, -1.73662297, -1.55795705, -1.53124361,\n",
       "        -1.54855769, -1.54967909, -1.5374539 , -1.53199157, -1.54440787,\n",
       "        -1.71790846, -1.53758281, -1.54276893, -1.55683896, -1.54880444]),\n",
       " 'std_test_score': array([0.00142024, 0.01015597, 0.00293982, 0.0156045 , 0.01360683,\n",
       "        0.00712011, 0.00874978, 0.00820039, 0.00074688, 0.01449918,\n",
       "        0.00681259, 0.01629569, 0.00184738, 0.00610012, 0.00857465,\n",
       "        0.01951058, 0.01388437, 0.01039801, 0.01079483, 0.01067391,\n",
       "        0.00275778, 0.01462228, 0.0162742 , 0.01680304, 0.01600704]),\n",
       " 'rank_test_score': array([23, 10, 21,  9, 11,  7, 13,  1, 25,  4, 14, 20, 24, 19,  2, 15, 17,\n",
       "         5,  3, 12, 22,  6,  8, 18, 16])}"
      ]
     },
     "execution_count": 173,
     "metadata": {},
     "output_type": "execute_result"
    }
   ],
   "source": [
    "fit_f.cv_results_"
   ]
  },
  {
   "cell_type": "code",
   "execution_count": 174,
   "metadata": {},
   "outputs": [
    {
     "data": {
      "text/plain": [
       "{'mean_fit_time': array([ 72.72563119, 139.34924746,  46.5999537 , 232.19862947,\n",
       "         64.88523679, 106.17146802, 318.609023  ,  95.05632367,\n",
       "        260.62385569, 224.08359928, 201.09787316,  75.27783556,\n",
       "        253.2367063 , 201.27394309, 215.12206583, 165.49740062,\n",
       "         68.77943869, 276.89413033, 181.48787069, 249.71262088,\n",
       "         81.77235317, 218.17613192,  59.95253453,  63.89559541,\n",
       "         69.31572685]),\n",
       " 'std_fit_time': array([0.86569907, 1.15084638, 0.45006023, 0.87906881, 0.7300949 ,\n",
       "        0.98279175, 3.53690093, 1.67427476, 2.40293579, 0.69598794,\n",
       "        1.38202358, 1.01477564, 1.81368778, 1.93512696, 8.21710386,\n",
       "        2.11696077, 0.62958166, 1.95930108, 1.43508351, 1.3222574 ,\n",
       "        0.86738971, 2.17723269, 0.55790226, 0.80160366, 2.93586501]),\n",
       " 'mean_score_time': array([0.03968778, 0.05505261, 0.03589716, 0.06002846, 0.03797894,\n",
       "        0.04587436, 0.06961336, 0.04248638, 0.07199616, 0.06462145,\n",
       "        0.06961379, 0.03809772, 0.05931292, 0.05397782, 0.06556115,\n",
       "        0.05747108, 0.03888884, 0.0671072 , 0.05360889, 0.06621814,\n",
       "        0.04705911, 0.05974445, 0.03929143, 0.04045787, 0.03618412]),\n",
       " 'std_score_time': array([0.00277446, 0.00116346, 0.00501184, 0.00470551, 0.00366103,\n",
       "        0.00251939, 0.00518547, 0.00411722, 0.00337155, 0.00470239,\n",
       "        0.00311562, 0.00171639, 0.00143092, 0.00151926, 0.00242321,\n",
       "        0.00312111, 0.00253564, 0.00174527, 0.00214621, 0.00120653,\n",
       "        0.0017442 , 0.00290954, 0.0014329 , 0.00034462, 0.00275543]),\n",
       " 'param_subsample': masked_array(data=[0.7, 0.85, 0.75, 0.85, 0.85, 0.65, 0.65, 0.8, 0.65,\n",
       "                    0.65, 0.8, 0.7, 0.9, 0.9, 0.6, 0.8, 0.6, 0.65, 0.8,\n",
       "                    0.6, 0.6, 0.85, 0.65, 0.6, 0.75],\n",
       "              mask=[False, False, False, False, False, False, False, False,\n",
       "                    False, False, False, False, False, False, False, False,\n",
       "                    False, False, False, False, False, False, False, False,\n",
       "                    False],\n",
       "        fill_value='?',\n",
       "             dtype=object),\n",
       " 'param_reg_alpha': masked_array(data=[100, 0.01, 100, 0.01, 100, 0.01, 0.1, 0.1, 0.01, 1e-05,\n",
       "                    0.1, 100, 1e-05, 1, 1e-05, 1e-05, 100, 1, 0.01, 1e-05,\n",
       "                    0.01, 1, 100, 100, 100],\n",
       "              mask=[False, False, False, False, False, False, False, False,\n",
       "                    False, False, False, False, False, False, False, False,\n",
       "                    False, False, False, False, False, False, False, False,\n",
       "                    False],\n",
       "        fill_value='?',\n",
       "             dtype=object),\n",
       " 'param_n_estimators': masked_array(data=[150, 75, 75, 100, 100, 75, 125, 75, 125, 125, 150, 125,\n",
       "                    100, 75, 125, 75, 100, 100, 125, 100, 75, 150, 100,\n",
       "                    100, 100],\n",
       "              mask=[False, False, False, False, False, False, False, False,\n",
       "                    False, False, False, False, False, False, False, False,\n",
       "                    False, False, False, False, False, False, False, False,\n",
       "                    False],\n",
       "        fill_value='?',\n",
       "             dtype=object),\n",
       " 'param_min_child_weight': masked_array(data=[4, 4, 6, 3, 1, 3, 4, 4, 4, 6, 4, 4, 4, 3, 4, 1, 3, 5,\n",
       "                    5, 2, 3, 5, 5, 1, 4],\n",
       "              mask=[False, False, False, False, False, False, False, False,\n",
       "                    False, False, False, False, False, False, False, False,\n",
       "                    False, False, False, False, False, False, False, False,\n",
       "                    False],\n",
       "        fill_value='?',\n",
       "             dtype=object),\n",
       " 'param_max_depth': masked_array(data=[6, 6, 6, 5, 6, 4, 6, 3, 6, 5, 4, 4, 5, 6, 4, 5, 5, 6,\n",
       "                    3, 6, 3, 3, 4, 6, 4],\n",
       "              mask=[False, False, False, False, False, False, False, False,\n",
       "                    False, False, False, False, False, False, False, False,\n",
       "                    False, False, False, False, False, False, False, False,\n",
       "                    False],\n",
       "        fill_value='?',\n",
       "             dtype=object),\n",
       " 'param_colsample_bytree': masked_array(data=[0.65, 0.6, 0.6, 0.85, 0.6, 0.7, 0.9, 0.8, 0.75, 0.75,\n",
       "                    0.6, 0.8, 0.9, 0.75, 0.85, 0.75, 0.9, 0.9, 0.85, 0.85,\n",
       "                    0.7, 0.8, 0.75, 0.8, 0.85],\n",
       "              mask=[False, False, False, False, False, False, False, False,\n",
       "                    False, False, False, False, False, False, False, False,\n",
       "                    False, False, False, False, False, False, False, False,\n",
       "                    False],\n",
       "        fill_value='?',\n",
       "             dtype=object),\n",
       " 'params': [{'subsample': 0.7,\n",
       "   'reg_alpha': 100,\n",
       "   'n_estimators': 150,\n",
       "   'min_child_weight': 4,\n",
       "   'max_depth': 6,\n",
       "   'colsample_bytree': 0.65},\n",
       "  {'subsample': 0.85,\n",
       "   'reg_alpha': 0.01,\n",
       "   'n_estimators': 75,\n",
       "   'min_child_weight': 4,\n",
       "   'max_depth': 6,\n",
       "   'colsample_bytree': 0.6},\n",
       "  {'subsample': 0.75,\n",
       "   'reg_alpha': 100,\n",
       "   'n_estimators': 75,\n",
       "   'min_child_weight': 6,\n",
       "   'max_depth': 6,\n",
       "   'colsample_bytree': 0.6},\n",
       "  {'subsample': 0.85,\n",
       "   'reg_alpha': 0.01,\n",
       "   'n_estimators': 100,\n",
       "   'min_child_weight': 3,\n",
       "   'max_depth': 5,\n",
       "   'colsample_bytree': 0.85},\n",
       "  {'subsample': 0.85,\n",
       "   'reg_alpha': 100,\n",
       "   'n_estimators': 100,\n",
       "   'min_child_weight': 1,\n",
       "   'max_depth': 6,\n",
       "   'colsample_bytree': 0.6},\n",
       "  {'subsample': 0.65,\n",
       "   'reg_alpha': 0.01,\n",
       "   'n_estimators': 75,\n",
       "   'min_child_weight': 3,\n",
       "   'max_depth': 4,\n",
       "   'colsample_bytree': 0.7},\n",
       "  {'subsample': 0.65,\n",
       "   'reg_alpha': 0.1,\n",
       "   'n_estimators': 125,\n",
       "   'min_child_weight': 4,\n",
       "   'max_depth': 6,\n",
       "   'colsample_bytree': 0.9},\n",
       "  {'subsample': 0.8,\n",
       "   'reg_alpha': 0.1,\n",
       "   'n_estimators': 75,\n",
       "   'min_child_weight': 4,\n",
       "   'max_depth': 3,\n",
       "   'colsample_bytree': 0.8},\n",
       "  {'subsample': 0.65,\n",
       "   'reg_alpha': 0.01,\n",
       "   'n_estimators': 125,\n",
       "   'min_child_weight': 4,\n",
       "   'max_depth': 6,\n",
       "   'colsample_bytree': 0.75},\n",
       "  {'subsample': 0.65,\n",
       "   'reg_alpha': 1e-05,\n",
       "   'n_estimators': 125,\n",
       "   'min_child_weight': 6,\n",
       "   'max_depth': 5,\n",
       "   'colsample_bytree': 0.75},\n",
       "  {'subsample': 0.8,\n",
       "   'reg_alpha': 0.1,\n",
       "   'n_estimators': 150,\n",
       "   'min_child_weight': 4,\n",
       "   'max_depth': 4,\n",
       "   'colsample_bytree': 0.6},\n",
       "  {'subsample': 0.7,\n",
       "   'reg_alpha': 100,\n",
       "   'n_estimators': 125,\n",
       "   'min_child_weight': 4,\n",
       "   'max_depth': 4,\n",
       "   'colsample_bytree': 0.8},\n",
       "  {'subsample': 0.9,\n",
       "   'reg_alpha': 1e-05,\n",
       "   'n_estimators': 100,\n",
       "   'min_child_weight': 4,\n",
       "   'max_depth': 5,\n",
       "   'colsample_bytree': 0.9},\n",
       "  {'subsample': 0.9,\n",
       "   'reg_alpha': 1,\n",
       "   'n_estimators': 75,\n",
       "   'min_child_weight': 3,\n",
       "   'max_depth': 6,\n",
       "   'colsample_bytree': 0.75},\n",
       "  {'subsample': 0.6,\n",
       "   'reg_alpha': 1e-05,\n",
       "   'n_estimators': 125,\n",
       "   'min_child_weight': 4,\n",
       "   'max_depth': 4,\n",
       "   'colsample_bytree': 0.85},\n",
       "  {'subsample': 0.8,\n",
       "   'reg_alpha': 1e-05,\n",
       "   'n_estimators': 75,\n",
       "   'min_child_weight': 1,\n",
       "   'max_depth': 5,\n",
       "   'colsample_bytree': 0.75},\n",
       "  {'subsample': 0.6,\n",
       "   'reg_alpha': 100,\n",
       "   'n_estimators': 100,\n",
       "   'min_child_weight': 3,\n",
       "   'max_depth': 5,\n",
       "   'colsample_bytree': 0.9},\n",
       "  {'subsample': 0.65,\n",
       "   'reg_alpha': 1,\n",
       "   'n_estimators': 100,\n",
       "   'min_child_weight': 5,\n",
       "   'max_depth': 6,\n",
       "   'colsample_bytree': 0.9},\n",
       "  {'subsample': 0.8,\n",
       "   'reg_alpha': 0.01,\n",
       "   'n_estimators': 125,\n",
       "   'min_child_weight': 5,\n",
       "   'max_depth': 3,\n",
       "   'colsample_bytree': 0.85},\n",
       "  {'subsample': 0.6,\n",
       "   'reg_alpha': 1e-05,\n",
       "   'n_estimators': 100,\n",
       "   'min_child_weight': 2,\n",
       "   'max_depth': 6,\n",
       "   'colsample_bytree': 0.85},\n",
       "  {'subsample': 0.6,\n",
       "   'reg_alpha': 0.01,\n",
       "   'n_estimators': 75,\n",
       "   'min_child_weight': 3,\n",
       "   'max_depth': 3,\n",
       "   'colsample_bytree': 0.7},\n",
       "  {'subsample': 0.85,\n",
       "   'reg_alpha': 1,\n",
       "   'n_estimators': 150,\n",
       "   'min_child_weight': 5,\n",
       "   'max_depth': 3,\n",
       "   'colsample_bytree': 0.8},\n",
       "  {'subsample': 0.65,\n",
       "   'reg_alpha': 100,\n",
       "   'n_estimators': 100,\n",
       "   'min_child_weight': 5,\n",
       "   'max_depth': 4,\n",
       "   'colsample_bytree': 0.75},\n",
       "  {'subsample': 0.6,\n",
       "   'reg_alpha': 100,\n",
       "   'n_estimators': 100,\n",
       "   'min_child_weight': 1,\n",
       "   'max_depth': 6,\n",
       "   'colsample_bytree': 0.8},\n",
       "  {'subsample': 0.75,\n",
       "   'reg_alpha': 100,\n",
       "   'n_estimators': 100,\n",
       "   'min_child_weight': 4,\n",
       "   'max_depth': 4,\n",
       "   'colsample_bytree': 0.85}],\n",
       " 'split0_test_score': array([0.27342747, 0.36328626, 0.27856226, 0.35815148, 0.28754814,\n",
       "        0.33761232, 0.36071887, 0.35044929, 0.34017972, 0.35173299,\n",
       "        0.3465982 , 0.27727856, 0.34274711, 0.35301669, 0.36713736,\n",
       "        0.35301669, 0.27471117, 0.3491656 , 0.3465982 , 0.33247754,\n",
       "        0.36328626, 0.33761232, 0.2593068 , 0.27727856, 0.27599487]),\n",
       " 'split1_test_score': array([0.29177378, 0.37275064, 0.29305913, 0.38688946, 0.30077121,\n",
       "        0.36632391, 0.36760925, 0.37017995, 0.3496144 , 0.33547558,\n",
       "        0.35989717, 0.29434447, 0.35089974, 0.35347044, 0.35218509,\n",
       "        0.34832905, 0.27634961, 0.37275064, 0.37532134, 0.36246787,\n",
       "        0.33547558, 0.35475578, 0.281491  , 0.27892031, 0.28791774]),\n",
       " 'split2_test_score': array([0.28516129, 0.36774194, 0.28903226, 0.34322581, 0.28      ,\n",
       "        0.34580645, 0.36516129, 0.3316129 , 0.35225806, 0.35483871,\n",
       "        0.39096774, 0.28516129, 0.37032258, 0.35354839, 0.36645161,\n",
       "        0.36258065, 0.27741935, 0.34967742, 0.35870968, 0.35870968,\n",
       "        0.35225806, 0.36516129, 0.28      , 0.27870968, 0.2916129 ]),\n",
       " 'split3_test_score': array([0.26873385, 0.36434109, 0.27260982, 0.35400517, 0.26485788,\n",
       "        0.34883721, 0.36046512, 0.35400517, 0.35529716, 0.35271318,\n",
       "        0.34366925, 0.27777778, 0.36563307, 0.36563307, 0.35658915,\n",
       "        0.37984496, 0.26485788, 0.35658915, 0.36563307, 0.3630491 ,\n",
       "        0.35400517, 0.36692506, 0.26744186, 0.26744186, 0.26744186]),\n",
       " 'split4_test_score': array([0.28682171, 0.35658915, 0.29069767, 0.35788114, 0.29586563,\n",
       "        0.35658915, 0.34625323, 0.33850129, 0.35529716, 0.34108527,\n",
       "        0.35917313, 0.28423773, 0.32170543, 0.36434109, 0.3372093 ,\n",
       "        0.34883721, 0.28682171, 0.35142119, 0.34754522, 0.35529716,\n",
       "        0.34883721, 0.34754522, 0.28423773, 0.28294574, 0.28682171]),\n",
       " 'mean_test_score': array([0.28118362, 0.36494182, 0.28479223, 0.36003061, 0.28580857,\n",
       "        0.35103381, 0.36004155, 0.34894972, 0.3505293 , 0.34716915,\n",
       "        0.3600611 , 0.28375997, 0.35026159, 0.35800193, 0.3559145 ,\n",
       "        0.35852171, 0.27603194, 0.3559208 , 0.3587615 , 0.35440027,\n",
       "        0.35077246, 0.35439994, 0.27449548, 0.27705923, 0.28195781]),\n",
       " 'std_test_score': array([0.00865928, 0.00532329, 0.00785388, 0.01447934, 0.01265482,\n",
       "        0.00976663, 0.00740591, 0.01332864, 0.00559293, 0.00753844,\n",
       "        0.01676889, 0.00619708, 0.01738422, 0.00572085, 0.01096569,\n",
       "        0.0118249 , 0.0070007 , 0.00881532, 0.01091055, 0.01131256,\n",
       "        0.00902211, 0.01096926, 0.00953518, 0.00516489, 0.00892937]),\n",
       " 'rank_test_score': array([22,  1, 19,  4, 18, 12,  3, 16, 14, 17,  2, 20, 15,  7,  9,  6, 24,\n",
       "         8,  5, 10, 13, 11, 25, 23, 21])}"
      ]
     },
     "execution_count": 174,
     "metadata": {},
     "output_type": "execute_result"
    }
   ],
   "source": [
    "fit_facc.cv_results_"
   ]
  },
  {
   "cell_type": "code",
   "execution_count": null,
   "metadata": {},
   "outputs": [],
   "source": []
  }
 ],
 "metadata": {
  "kernelspec": {
   "display_name": "Python 3",
   "language": "python",
   "name": "python3"
  },
  "language_info": {
   "codemirror_mode": {
    "name": "ipython",
    "version": 3
   },
   "file_extension": ".py",
   "mimetype": "text/x-python",
   "name": "python",
   "nbconvert_exporter": "python",
   "pygments_lexer": "ipython3",
   "version": "3.6.8"
  }
 },
 "nbformat": 4,
 "nbformat_minor": 2
}
